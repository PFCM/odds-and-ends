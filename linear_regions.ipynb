{
 "cells": [
  {
   "cell_type": "markdown",
   "metadata": {},
   "source": [
    "# Counting linear regions\n",
    "\n",
    "The plan:\n",
    "- make some relu nets, with varying numbers of layers but similar numbers of parameters\n",
    "- somehow come up with a way to count the number of linear regions in the output\n",
    "- count linear regions before, during and after training on some data"
   ]
  },
  {
   "cell_type": "code",
   "execution_count": 16,
   "metadata": {
    "collapsed": false
   },
   "outputs": [],
   "source": [
    "%matplotlib inline\n",
    "import matplotlib.pyplot as plt\n",
    "from mpl_toolkits.mplot3d import Axes3D\n",
    "import numpy as np\n",
    "import tensorflow as tf\n",
    "\n",
    "import tensorflow.contrib.slim as slim"
   ]
  },
  {
   "cell_type": "code",
   "execution_count": 17,
   "metadata": {
    "collapsed": true
   },
   "outputs": [],
   "source": [
    "def get_fixed_param_net(input_var, depth, num_outputs, num_params, scope=None):\n",
    "    \"\"\"Gets a relu net with given depth, attempting to keep it\n",
    "    near a certain number of parameters\"\"\"\n",
    "    # firstly how wide are they going to be?\n",
    "    # the first layer is input_size * x + x params\n",
    "    # internal depth-2 layers are X**2 + x\n",
    "    # the output layer is x * num_outpus + num_outputs\n",
    "    # so the total is:\n",
    "    #    input_size * x + (depth-2)*(x**2) + x*num_outputs + (depth-1)*x + num_outputs\n",
    "    #  = (depth-2)*(x**2) + (input_size + num_outputs + depth)*x + num_outputs\n",
    "    # so we should be able to solve for x by solving the quadratic :)\n",
    "    input_size = input_var.get_shape()[1].value\n",
    "    coefs = np.array([depth-2, input_size + num_outputs + depth - 1, num_outputs - num_params])\n",
    "    width = np.roots(coefs)\n",
    "    print(width)\n",
    "    width = np.max(width)\n",
    "    width = int(np.round(width))\n",
    "    \n",
    "    print('each layer: {}'.format(width))\n",
    "    print('estimated {} params'.format(\n",
    "        (depth-2)*(width**2) + (input_size + num_outputs + depth - 1)*width + num_outputs))\n",
    "    \n",
    "    # now let's get a net\n",
    "    with slim.arg_scope([slim.fully_connected],\n",
    "                        activation_fn=tf.nn.relu,\n",
    "                        normalizer_fn=None,\n",
    "                        biases_initializer=tf.random_normal_initializer(stddev=0.1)):\n",
    "        with tf.variable_scope(scope or 'net'):\n",
    "            # outputs = slim.repeat(input_var, depth-1, slim.fully_connected, width, scope='net')\n",
    "            outputs = input_var\n",
    "            for layer in range(depth-1):\n",
    "                outputs = slim.fully_connected(outputs, width, scope='layer_{}'.format(layer+1))\n",
    "            outputs = slim.fully_connected(outputs, num_outputs, activation_fn=None)\n",
    "    return outputs\n",
    "\n",
    "def count_trainable():\n",
    "    \"\"\"counts the size of the variables in tf.trainable_variables()\"\"\"\n",
    "    total = 0\n",
    "    for var in tf.trainable_variables():\n",
    "        total += np.prod(var.get_shape().as_list())\n",
    "    return total"
   ]
  },
  {
   "cell_type": "code",
   "execution_count": 18,
   "metadata": {
    "collapsed": false
   },
   "outputs": [
    {
     "name": "stdout",
     "output_type": "stream",
     "text": [
      "[-167.84224673   74.46724673]\n",
      "each layer: 74\n",
      "estimated 99096 params\n",
      "Tensor(\"net/fully_connected/BiasAdd:0\", shape=(100, 10), dtype=float32)\n",
      "actual params: 99096\n"
     ]
    }
   ],
   "source": [
    "tf.reset_default_graph()\n",
    "\n",
    "input_var = tf.get_variable('inputssss', shape=[100, 728], trainable=False)\n",
    "\n",
    "print(get_fixed_param_net(input_var, 10, 10, 100000))\n",
    "print('actual params: {}'.format(count_trainable()))"
   ]
  },
  {
   "cell_type": "markdown",
   "metadata": {},
   "source": [
    "### We can get networks with a fixed number of parameters\n",
    "\n",
    "how do we count the linear regions?\n",
    "\n",
    "- probably with a grid\n",
    "- let's make a net with 2 ins and 1 out\n",
    "- plot the output as a function of input"
   ]
  },
  {
   "cell_type": "code",
   "execution_count": 27,
   "metadata": {
    "collapsed": false
   },
   "outputs": [
    {
     "name": "stdout",
     "output_type": "stream",
     "text": [
      "[ 249.75]\n",
      "each layer: 250\n",
      "estimated 1001 params\n",
      "[-19.45221044  17.11887711]\n",
      "each layer: 17\n",
      "estimated 987 params\n"
     ]
    }
   ],
   "source": [
    "tf.reset_default_graph()\n",
    "grid_range = tf.linspace(-10.0, 10.0, 50)\n",
    "\n",
    "X, Y = tf.meshgrid(grid_range, grid_range)\n",
    "grid_inputs = tf.concat(1, [tf.reshape(X, [-1, 1]), tf.reshape(Y, [-1, 1])])\n",
    "\n",
    "shallow_net = get_fixed_param_net(grid_inputs, 2, 1, 1000, 'shallow')\n",
    "deep_net = get_fixed_param_net(grid_inputs, 5, 1, 1000, 'deep')"
   ]
  },
  {
   "cell_type": "code",
   "execution_count": 28,
   "metadata": {
    "collapsed": false
   },
   "outputs": [],
   "source": [
    "with tf.Session() as sess:\n",
    "    sess.run(tf.initialize_all_variables())\n",
    "    \n",
    "    shallow_outs, deep_outs, xy = sess.run(\n",
    "        [shallow_net, deep_net, grid_inputs])"
   ]
  },
  {
   "cell_type": "code",
   "execution_count": 29,
   "metadata": {
    "collapsed": false
   },
   "outputs": [
    {
     "data": {
      "text/plain": [
       "<mpl_toolkits.mplot3d.art3d.Poly3DCollection at 0x11d95f9e8>"
      ]
     },
     "execution_count": 29,
     "metadata": {},
     "output_type": "execute_result"
    },
    {
     "data": {
      "image/png": "[encoded data removed]",
      "text/plain": [
       "<matplotlib.figure.Figure at 0x11dac13c8>"
      ]
     },
     "metadata": {},
     "output_type": "display_data"
    }
   ],
   "source": [
    "fig = plt.figure()\n",
    "ax = fig.add_subplot(111, projection='3d')\n",
    "ax.plot_trisurf(xy[:, 0], xy[:, 1], shallow_outs[:, 0], edgecolors=\"none\", linewidth=0, shade=True, antialiased=False)\n",
    "#ax.set_xlim((-1, 1))\n",
    "#ax.set_ylim((-1, 1))"
   ]
  },
  {
   "cell_type": "code",
   "execution_count": 30,
   "metadata": {
    "collapsed": false
   },
   "outputs": [
    {
     "data": {
      "text/plain": [
       "<mpl_toolkits.mplot3d.art3d.Poly3DCollection at 0x11c7cb978>"
      ]
     },
     "execution_count": 30,
     "metadata": {},
     "output_type": "execute_result"
    },
    {
     "data": {
      "image/png": "[encoded data removed]",
      "text/plain": [
       "<matplotlib.figure.Figure at 0x11da82c18>"
      ]
     },
     "metadata": {},
     "output_type": "display_data"
    }
   ],
   "source": [
    "fig = plt.figure()\n",
    "ax = fig.add_subplot(111, projection='3d')\n",
    "ax.plot_trisurf(xy[:, 0], xy[:, 1], deep_outs[:, 0], edgecolors=\"none\", linewidth=0, shade=True, antialiased=False)\n",
    "#ax.set_xlim((-1, 1))\n",
    "#ax.set_ylim((-1, 1))"
   ]
  },
  {
   "cell_type": "markdown",
   "metadata": {
    "collapsed": true
   },
   "source": [
    "### What about one in and one out?\n",
    "\n",
    "Is that too trivial?\n",
    "\n",
    "The above is not especially enlightening, and counting the linear regions in two dimensions might be tedious"
   ]
  },
  {
   "cell_type": "code",
   "execution_count": 8,
   "metadata": {
    "collapsed": false
   },
   "outputs": [
    {
     "name": "stdout",
     "output_type": "stream",
     "text": [
      "[ 666.33333333]\n",
      "each layer: 666\n",
      "estimated 1999 params\n",
      "[-26.83279569  24.83279569]\n",
      "each layer: 25\n",
      "estimated 2026 params\n",
      "[-16.50987834  15.13487834]\n",
      "each layer: 15\n",
      "estimated 1966 params\n"
     ]
    }
   ],
   "source": [
    "tf.reset_default_graph()\n",
    "grid_range = tf.linspace(-1.0, 1.0, 100000)\n",
    "\n",
    "# X, Y = tf.meshgrid(grid_range, grid_range)\n",
    "grid_inputs = tf.expand_dims(grid_range, 1)  # tf.concat(1, [tf.reshape(X, [-1, 1]), tf.reshape(Y, [-1, 1])])\n",
    "\n",
    "shallow_net = get_fixed_param_net(grid_inputs, 2,  1, 2000, 'shallow')\n",
    "deep_net    = get_fixed_param_net(grid_inputs, 5, 1, 2000, 'deep')\n",
    "deeper_net  = get_fixed_param_net(grid_inputs, 10, 1, 2000, 'deeper')\n",
    "\n",
    "shallow_net = tf.squeeze(shallow_net)\n",
    "deep_net = tf.squeeze(deep_net)\n",
    "deeper_net = tf.squeeze(deeper_net)"
   ]
  },
  {
   "cell_type": "code",
   "execution_count": 9,
   "metadata": {
    "collapsed": true
   },
   "outputs": [],
   "source": [
    "with tf.Session() as sess:\n",
    "    sess.run(tf.initialize_all_variables())\n",
    "    \n",
    "    shallow_outs, deep_outs, deeper_outs, x = sess.run(\n",
    "        [shallow_net, deep_net, deeper_net, grid_inputs])"
   ]
  },
  {
   "cell_type": "code",
   "execution_count": 10,
   "metadata": {
    "collapsed": false
   },
   "outputs": [
    {
     "data": {
      "text/plain": [
       "[<matplotlib.lines.Line2D at 0x148f33780>]"
      ]
     },
     "execution_count": 10,
     "metadata": {},
     "output_type": "execute_result"
    },
    {
     "data": {
      "image/png": "[encoded data removed]",
      "text/plain": [
       "<matplotlib.figure.Figure at 0x11c7494a8>"
      ]
     },
     "metadata": {},
     "output_type": "display_data"
    }
   ],
   "source": [
    "plt.plot(x, shallow_outs)"
   ]
  },
  {
   "cell_type": "code",
   "execution_count": 11,
   "metadata": {
    "collapsed": false
   },
   "outputs": [
    {
     "data": {
      "text/plain": [
       "[<matplotlib.lines.Line2D at 0x11cf75f28>]"
      ]
     },
     "execution_count": 11,
     "metadata": {},
     "output_type": "execute_result"
    },
    {
     "data": {
      "image/png": "[encoded data removed]",
      "text/plain": [
       "<matplotlib.figure.Figure at 0x11cd02668>"
      ]
     },
     "metadata": {},
     "output_type": "display_data"
    }
   ],
   "source": [
    "plt.plot(x, deep_outs)"
   ]
  },
  {
   "cell_type": "code",
   "execution_count": 12,
   "metadata": {
    "collapsed": false
   },
   "outputs": [
    {
     "data": {
      "text/plain": [
       "[<matplotlib.lines.Line2D at 0x11d2ad470>]"
      ]
     },
     "execution_count": 12,
     "metadata": {},
     "output_type": "execute_result"
    },
    {
     "data": {
      "image/png": "[encoded data removed]",
      "text/plain": [
       "<matplotlib.figure.Figure at 0x11d1cee80>"
      ]
     },
     "metadata": {},
     "output_type": "display_data"
    }
   ],
   "source": [
    "plt.plot(x, deeper_outs)"
   ]
  },
  {
   "cell_type": "markdown",
   "metadata": {},
   "source": [
    "ok, let's try count them.\n",
    "\n",
    "although still feel like 1d might be too simple"
   ]
  },
  {
   "cell_type": "code",
   "execution_count": 13,
   "metadata": {
    "collapsed": false
   },
   "outputs": [],
   "source": [
    "def count_linear_regions(data, tolerance=5e-7):\n",
    "    \"\"\"just count the number of times the gradient changes\"\"\"\n",
    "    # can we do it without a python loop?\n",
    "    if len(data.shape) == 2 and data.shape[1] != 1:\n",
    "        raise ValueError('need 1d data')\n",
    "    data = data.reshape(-1)\n",
    "    diffs = data[1:] - data[:-1]\n",
    "    # now we just need to count points when it changes\n",
    "    # print(diffs)\n",
    "    # sdiffs = diffs[:-1] - diffs[1:]\n",
    "    # print(sdiffs)\n",
    "    # plus 1, because there's always one\n",
    "    return np.sum(~np.isclose(diffs[:-1], diffs[1:], atol=tolerance)) + 1"
   ]
  },
  {
   "cell_type": "code",
   "execution_count": 14,
   "metadata": {
    "collapsed": false
   },
   "outputs": [
    {
     "name": "stdout",
     "output_type": "stream",
     "text": [
      "shallow : 1\n",
      "deep    : 19\n",
      "deeper  : 3\n"
     ]
    }
   ],
   "source": [
    "print('shallow : {}'.format(count_linear_regions(shallow_outs)))\n",
    "print('deep    : {}'.format(count_linear_regions(deep_outs)))\n",
    "print('deeper  : {}'.format(count_linear_regions(deeper_outs)))"
   ]
  },
  {
   "cell_type": "code",
   "execution_count": 15,
   "metadata": {
    "collapsed": false
   },
   "outputs": [
    {
     "name": "stdout",
     "output_type": "stream",
     "text": [
      "\r",
      "0"
     ]
    },
    {
     "ename": "KeyboardInterrupt",
     "evalue": "",
     "output_type": "error",
     "traceback": [
      "\u001b[0;31m---------------------------------------------------------------------------\u001b[0m",
      "\u001b[0;31mKeyboardInterrupt\u001b[0m                         Traceback (most recent call last)",
      "\u001b[0;32m<ipython-input-15-aabac58dc8b6>\u001b[0m in \u001b[0;36m<module>\u001b[0;34m()\u001b[0m\n\u001b[1;32m      7\u001b[0m \u001b[0;34m\u001b[0m\u001b[0m\n\u001b[1;32m      8\u001b[0m         shallow_outs, deep_outs, deeper_outs, x = sess.run(\n\u001b[0;32m----> 9\u001b[0;31m             [shallow_net, deep_net, deeper_net, grid_inputs])\n\u001b[0m\u001b[1;32m     10\u001b[0m         \u001b[0mshallow_av\u001b[0m \u001b[0;34m+=\u001b[0m \u001b[0mcount_linear_regions\u001b[0m\u001b[0;34m(\u001b[0m\u001b[0mshallow_outs\u001b[0m\u001b[0;34m)\u001b[0m\u001b[0;34m\u001b[0m\u001b[0m\n\u001b[1;32m     11\u001b[0m         \u001b[0mdeep_av\u001b[0m \u001b[0;34m+=\u001b[0m \u001b[0mcount_linear_regions\u001b[0m\u001b[0;34m(\u001b[0m\u001b[0mdeep_outs\u001b[0m\u001b[0;34m)\u001b[0m\u001b[0;34m\u001b[0m\u001b[0m\n",
      "\u001b[0;32m/Users/pfcmathews/.pyenv/versions/3.5.0/lib/python3.5/site-packages/tensorflow/python/client/session.py\u001b[0m in \u001b[0;36mrun\u001b[0;34m(self, fetches, feed_dict, options, run_metadata)\u001b[0m\n\u001b[1;32m    715\u001b[0m     \u001b[0;32mtry\u001b[0m\u001b[0;34m:\u001b[0m\u001b[0;34m\u001b[0m\u001b[0m\n\u001b[1;32m    716\u001b[0m       result = self._run(None, fetches, feed_dict, options_ptr,\n\u001b[0;32m--> 717\u001b[0;31m                          run_metadata_ptr)\n\u001b[0m\u001b[1;32m    718\u001b[0m       \u001b[0;32mif\u001b[0m \u001b[0mrun_metadata\u001b[0m\u001b[0;34m:\u001b[0m\u001b[0;34m\u001b[0m\u001b[0m\n\u001b[1;32m    719\u001b[0m         \u001b[0mproto_data\u001b[0m \u001b[0;34m=\u001b[0m \u001b[0mtf_session\u001b[0m\u001b[0;34m.\u001b[0m\u001b[0mTF_GetBuffer\u001b[0m\u001b[0;34m(\u001b[0m\u001b[0mrun_metadata_ptr\u001b[0m\u001b[0;34m)\u001b[0m\u001b[0;34m\u001b[0m\u001b[0m\n",
      "\u001b[0;32m/Users/pfcmathews/.pyenv/versions/3.5.0/lib/python3.5/site-packages/tensorflow/python/client/session.py\u001b[0m in \u001b[0;36m_run\u001b[0;34m(self, handle, fetches, feed_dict, options, run_metadata)\u001b[0m\n\u001b[1;32m    913\u001b[0m     \u001b[0;32mif\u001b[0m \u001b[0mfinal_fetches\u001b[0m \u001b[0;32mor\u001b[0m \u001b[0mfinal_targets\u001b[0m\u001b[0;34m:\u001b[0m\u001b[0;34m\u001b[0m\u001b[0m\n\u001b[1;32m    914\u001b[0m       results = self._do_run(handle, final_targets, final_fetches,\n\u001b[0;32m--> 915\u001b[0;31m                              feed_dict_string, options, run_metadata)\n\u001b[0m\u001b[1;32m    916\u001b[0m     \u001b[0;32melse\u001b[0m\u001b[0;34m:\u001b[0m\u001b[0;34m\u001b[0m\u001b[0m\n\u001b[1;32m    917\u001b[0m       \u001b[0mresults\u001b[0m \u001b[0;34m=\u001b[0m \u001b[0;34m[\u001b[0m\u001b[0;34m]\u001b[0m\u001b[0;34m\u001b[0m\u001b[0m\n",
      "\u001b[0;32m/Users/pfcmathews/.pyenv/versions/3.5.0/lib/python3.5/site-packages/tensorflow/python/client/session.py\u001b[0m in \u001b[0;36m_do_run\u001b[0;34m(self, handle, target_list, fetch_list, feed_dict, options, run_metadata)\u001b[0m\n\u001b[1;32m    963\u001b[0m     \u001b[0;32mif\u001b[0m \u001b[0mhandle\u001b[0m \u001b[0;32mis\u001b[0m \u001b[0;32mNone\u001b[0m\u001b[0;34m:\u001b[0m\u001b[0;34m\u001b[0m\u001b[0m\n\u001b[1;32m    964\u001b[0m       return self._do_call(_run_fn, self._session, feed_dict, fetch_list,\n\u001b[0;32m--> 965\u001b[0;31m                            target_list, options, run_metadata)\n\u001b[0m\u001b[1;32m    966\u001b[0m     \u001b[0;32melse\u001b[0m\u001b[0;34m:\u001b[0m\u001b[0;34m\u001b[0m\u001b[0m\n\u001b[1;32m    967\u001b[0m       return self._do_call(_prun_fn, self._session, handle, feed_dict,\n",
      "\u001b[0;32m/Users/pfcmathews/.pyenv/versions/3.5.0/lib/python3.5/site-packages/tensorflow/python/client/session.py\u001b[0m in \u001b[0;36m_do_call\u001b[0;34m(self, fn, *args)\u001b[0m\n\u001b[1;32m    970\u001b[0m   \u001b[0;32mdef\u001b[0m \u001b[0m_do_call\u001b[0m\u001b[0;34m(\u001b[0m\u001b[0mself\u001b[0m\u001b[0;34m,\u001b[0m \u001b[0mfn\u001b[0m\u001b[0;34m,\u001b[0m \u001b[0;34m*\u001b[0m\u001b[0margs\u001b[0m\u001b[0;34m)\u001b[0m\u001b[0;34m:\u001b[0m\u001b[0;34m\u001b[0m\u001b[0m\n\u001b[1;32m    971\u001b[0m     \u001b[0;32mtry\u001b[0m\u001b[0;34m:\u001b[0m\u001b[0;34m\u001b[0m\u001b[0m\n\u001b[0;32m--> 972\u001b[0;31m       \u001b[0;32mreturn\u001b[0m \u001b[0mfn\u001b[0m\u001b[0;34m(\u001b[0m\u001b[0;34m*\u001b[0m\u001b[0margs\u001b[0m\u001b[0;34m)\u001b[0m\u001b[0;34m\u001b[0m\u001b[0m\n\u001b[0m\u001b[1;32m    973\u001b[0m     \u001b[0;32mexcept\u001b[0m \u001b[0merrors\u001b[0m\u001b[0;34m.\u001b[0m\u001b[0mOpError\u001b[0m \u001b[0;32mas\u001b[0m \u001b[0me\u001b[0m\u001b[0;34m:\u001b[0m\u001b[0;34m\u001b[0m\u001b[0m\n\u001b[1;32m    974\u001b[0m       \u001b[0mmessage\u001b[0m \u001b[0;34m=\u001b[0m \u001b[0mcompat\u001b[0m\u001b[0;34m.\u001b[0m\u001b[0mas_text\u001b[0m\u001b[0;34m(\u001b[0m\u001b[0me\u001b[0m\u001b[0;34m.\u001b[0m\u001b[0mmessage\u001b[0m\u001b[0;34m)\u001b[0m\u001b[0;34m\u001b[0m\u001b[0m\n",
      "\u001b[0;32m/Users/pfcmathews/.pyenv/versions/3.5.0/lib/python3.5/site-packages/tensorflow/python/client/session.py\u001b[0m in \u001b[0;36m_run_fn\u001b[0;34m(session, feed_dict, fetch_list, target_list, options, run_metadata)\u001b[0m\n\u001b[1;32m    952\u001b[0m         return tf_session.TF_Run(session, options,\n\u001b[1;32m    953\u001b[0m                                  \u001b[0mfeed_dict\u001b[0m\u001b[0;34m,\u001b[0m \u001b[0mfetch_list\u001b[0m\u001b[0;34m,\u001b[0m \u001b[0mtarget_list\u001b[0m\u001b[0;34m,\u001b[0m\u001b[0;34m\u001b[0m\u001b[0m\n\u001b[0;32m--> 954\u001b[0;31m                                  status, run_metadata)\n\u001b[0m\u001b[1;32m    955\u001b[0m \u001b[0;34m\u001b[0m\u001b[0m\n\u001b[1;32m    956\u001b[0m     \u001b[0;32mdef\u001b[0m \u001b[0m_prun_fn\u001b[0m\u001b[0;34m(\u001b[0m\u001b[0msession\u001b[0m\u001b[0;34m,\u001b[0m \u001b[0mhandle\u001b[0m\u001b[0;34m,\u001b[0m \u001b[0mfeed_dict\u001b[0m\u001b[0;34m,\u001b[0m \u001b[0mfetch_list\u001b[0m\u001b[0;34m)\u001b[0m\u001b[0;34m:\u001b[0m\u001b[0;34m\u001b[0m\u001b[0m\n",
      "\u001b[0;31mKeyboardInterrupt\u001b[0m: "
     ]
    }
   ],
   "source": [
    "# seems to change a lot, let's check an average\n",
    "shallow_av, deep_av, deeper_av = 0, 0, 0\n",
    "num_tests = 100\n",
    "for i in range(num_tests):\n",
    "    with tf.Session() as sess:\n",
    "        sess.run(tf.initialize_all_variables())\n",
    "\n",
    "        shallow_outs, deep_outs, deeper_outs, x = sess.run(\n",
    "            [shallow_net, deep_net, deeper_net, grid_inputs])\n",
    "        shallow_av += count_linear_regions(shallow_outs)\n",
    "        deep_av += count_linear_regions(deep_outs)\n",
    "        deeper_av += count_linear_regions(deeper_outs)\n",
    "        print('\\r{}'.format(i), end='')\n",
    "print()\n",
    "print('shallow: {}'.format(shallow_av / num_tests))\n",
    "print('   deep: {}'.format(deep_av / num_tests))\n",
    "print(' deeper: {}'.format(deeper_av / num_tests))"
   ]
  },
  {
   "cell_type": "markdown",
   "metadata": {},
   "source": [
    "alright, let's do it for real"
   ]
  },
  {
   "cell_type": "code",
   "execution_count": null,
   "metadata": {
    "collapsed": false
   },
   "outputs": [],
   "source": [
    "tf.reset_default_graph()\n",
    "grid_range = tf.linspace(-10.0, 10.0, 1000000)\n",
    "grid_inputs = tf.expand_dims(grid_range, 1)\n",
    "\n",
    "nets = {i:  get_fixed_param_net(grid_inputs, i, 1, 500, scope='{}-layer'.format(i))\n",
    "        for i in range(2, 11)}"
   ]
  },
  {
   "cell_type": "code",
   "execution_count": null,
   "metadata": {
    "collapsed": false
   },
   "outputs": [],
   "source": [
    "num_tests = 200\n",
    "counts = [0 for _ in nets]\n",
    "with tf.Session() as sess:\n",
    "    for i in range(num_tests):\n",
    "        sess.run(tf.initialize_all_variables())\n",
    "        results = sess.run(\n",
    "            [net_out for _, net_out in sorted(nets.items())])\n",
    "        for j, result in enumerate(results):\n",
    "            counts[j] += count_linear_regions(result)\n",
    "        print('\\r{}'.format(i), end='')\n",
    "print()\n",
    "for depth, count in zip(nets, counts):\n",
    "    print('depth {}: {}'.format(depth, count/num_tests))"
   ]
  },
  {
   "cell_type": "code",
   "execution_count": null,
   "metadata": {
    "collapsed": false
   },
   "outputs": [],
   "source": [
    "ind = np.array([depth for depth in nets])\n",
    "width = 0.8\n",
    "\n",
    "plt.bar(ind-width/2, np.array(counts)/num_tests, width)\n",
    "plt.xlabel(\"depth\")\n",
    "plt.ylabel(\"linear regions\")"
   ]
  },
  {
   "cell_type": "markdown",
   "metadata": {},
   "source": [
    "## what if we train them\n",
    "\n",
    "Let's train them on some toy data that needs a fair number of linear regions:"
   ]
  },
  {
   "cell_type": "code",
   "execution_count": null,
   "metadata": {
    "collapsed": false
   },
   "outputs": [],
   "source": [
    "# let's use slightly fewer\n",
    "tf.reset_default_graph()\n",
    "grid_range = tf.linspace(-10.0, 10.0, 10000)\n",
    "grid_inputs = tf.expand_dims(grid_range, 1)\n",
    "\n",
    "nets = {i:  get_fixed_param_net(grid_inputs, i, 1, 500, scope='{}-layer'.format(i))\n",
    "        for i in range(2, 11, 2)}\n",
    "\n",
    "targets = tf.sin(grid_inputs)  # roughly 1.5 oscillations each way, so about 3 overall\n",
    "loss_ops = [tf.reduce_mean(tf.squared_difference(net_out, targets))\n",
    "            for _, net_out in sorted(nets.items())]\n",
    "opt = tf.train.GradientDescentOptimizer(0.01)\n",
    "train_ops = [opt.minimize(loss) for loss in loss_ops]\n",
    "train_all = tf.group(*train_ops)"
   ]
  },
  {
   "cell_type": "code",
   "execution_count": null,
   "metadata": {
    "collapsed": false
   },
   "outputs": [],
   "source": [
    "sess = tf.InteractiveSession()\n",
    "sess.run(tf.initialize_all_variables())\n",
    "num_epochs = 10000\n",
    "\n",
    "losses = {key: [] for key in nets}\n",
    "regions = {key: [] for key in nets}\n",
    "\n",
    "for epoch in range(num_epochs):\n",
    "    results = sess.run(loss_ops + [train_all])\n",
    "    print('\\r({}): {}'.format(epoch, ','.join([str(r) for r in results[:-1]])), end='')\n",
    "    \n",
    "    # also count the linear regions\n",
    "    outputs = sess.run([net for _, net in nets.items()])\n",
    "    \n",
    "    for i, key in enumerate(sorted(nets)):\n",
    "        losses[key].append(results[i])\n",
    "        regions[key].append(count_linear_regions(outputs[i]))"
   ]
  },
  {
   "cell_type": "markdown",
   "metadata": {},
   "source": [
    "Let's see how close they got, as well as how the linear regions and losses tracked"
   ]
  },
  {
   "cell_type": "code",
   "execution_count": null,
   "metadata": {
    "collapsed": false
   },
   "outputs": [],
   "source": [
    "target_output, x = sess.run([targets, grid_inputs])\n",
    "run_idx = np.arange(num_epochs)\n",
    "\n",
    "for depth, output in sorted(nets.items()):\n",
    "    print(\"depth {}\".format(depth))\n",
    "    net_out = sess.run(output)\n",
    "    plt.figure(figsize=(15,5))\n",
    "    plt.subplot(131)\n",
    "    plt.title(\"output\")\n",
    "    plt.plot(x, net_out)\n",
    "    plt.plot(x, target_output)\n",
    "    \n",
    "    plt.subplot(132)\n",
    "    plt.title(\"linear regions\")\n",
    "    plt.plot(run_idx, regions[depth])\n",
    "    \n",
    "    plt.subplot(133)\n",
    "    plt.title(\"loss\")\n",
    "    plt.plot(run_idx, losses[depth])\n",
    "    plt.show()\n",
    "    "
   ]
  },
  {
   "cell_type": "markdown",
   "metadata": {},
   "source": [
    "Unsurprisingly, the net that finished with the highest number of linear regions had the lowest error at the end as well. There's some pretty unusual patterns, but they are all on the right track. Interesting;y the number of linear regions does increase with training to approximate a non-linear function. This suggests the following:\n",
    "- the number of apparent linear regions at initialisation is not necessarily the number of linear regions the net is capable of. A key reason for this is simply that we test linear regions in a range, and there is a reasonable chance that many regions are outside the range. As the target function requires quite a few linear regions to model accurately, we would expect the regions to slide into the range we test during training. \n",
    "- all networks were capable of increasing the number of regions inside a given range during training. Whether this is splitting parallel/shadowed regions or moving them inside the range, the general shape of the linear region curve is pretty similar for all nets.\n",
    "- all networks finished with a similar number of linear regions. Conclusions from this fact are:\n",
    "    - if the target is bounded, the networks have a similar ability to shift linear regions into the bounds and use them for approximation\n",
    "    - the method of counting linear regions isn't perfect\n",
    "        - visual inspection appears to suggest that the 2 layer net has 6 linear regions (being generous), which doesn't seem a lot like 5,000. For the other nets it's harder to tell, but the results doo seem an order of magnitude off. However, looking at where they end up, the depth 8 network does appear to have the most nonlinearity in its output and it finishes the highest, so the measurements probably are at least useful relative to one another."
   ]
  },
  {
   "cell_type": "code",
   "execution_count": null,
   "metadata": {
    "collapsed": true
   },
   "outputs": [],
   "source": []
  }
 ],
 "metadata": {
  "kernelspec": {
   "display_name": "Python 3",
   "language": "python",
   "name": "python3"
  },
  "language_info": {
   "codemirror_mode": {
    "name": "ipython",
    "version": 3
   },
   "file_extension": ".py",
   "mimetype": "text/x-python",
   "name": "python",
   "nbconvert_exporter": "python",
   "pygments_lexer": "ipython3",
   "version": "3.5.0"
  }
 },
 "nbformat": 4,
 "nbformat_minor": 0
}

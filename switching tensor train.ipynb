{
 "cells": [
  {
   "cell_type": "markdown",
   "metadata": {},
   "source": [
    "[Tensor Switching Networks](https://arxiv.org/pdf/1610.10087v1.pdf) (sort of) generalise relus. The intuition derives from writing a relu layer's output as:\n",
    "$$\n",
    "    X_l = \\left(H(W_{l}X_{l-1}) \\otimes X_{l-1} \\odot W_{l}\\right) \\times \\mathbf{1}^{n_0}\n",
    "$$\n",
    "\n",
    "Where $X_i$ is the activation for layer $i$, $W_i$ the weights, $H(\\cdot)$ is the [Heaviside step function](https://en.wikipedia.org/wiki/Heaviside_step_function) applied elementwise,\n",
    "$\\odot$ is a kind of broadcasted tensor-matrix Hadamard where we do it for each slice of the tensor. The vector of ones at the end squishes it back down the right shape.\n",
    "\n",
    "Tensor switching networks simplify slightly by skipping the projection at the end:\n",
    "$$\n",
    "    Z_l = H(W_lX_{l-1}) \\otimes Z_{l-1}\n",
    "$$\n",
    "ensuring $Z_0 = X_0$ is the input to the network. Essentially this just gets gated in complex ways as the tensor grows (with a new dimension for each layer). Finally, just flatten the thing and send it into a standard layer.\n",
    "\n",
    "There are two issues with this:\n",
    "1. the tensor gets very large\n",
    "    - because it adds a whole dimension at each layer (it is likely to be sparse and what is there is just copies).\n",
    "1. it is impossible to train the weights with normal backprop\n",
    "    - because $H$ has zero gradients (where it is defined).\n",
    "\n",
    "The authors offer the following solutions:\n",
    "1. nothing\n",
    "2. some crazy schemes including:\n",
    "    - just use learn only the last layer\n",
    "    - use nearly the gradients you would get if it were a normal relu net\n",
    "    - pretty much changing everything into a different kind of network (which is interesting in its own right)\n",
    "    \n",
    "    \n",
    "Here we propose to investigate 2 ideas to solve these issues:\n",
    "1. use the tensor train format\n",
    "2. use [this](https://arxiv.org/pdf/1602.02830v3.pdf) method of pretending to back-propagate\n",
    "   through binarisation."
   ]
  },
  {
   "cell_type": "markdown",
   "metadata": {},
   "source": [
    "#### Tensor train tensor products.\n",
    "\n",
    "What does it mean to do the tensor product of a vector with a tensor in the tt-format.\n",
    "Let $A$ be a tensor in the tensor-train with elements\n",
    "$$\n",
    "    a(i_1, i_2, \\ldots, i_d) = G_1[i_1]G_2[i_2]\\cdots G_d[i_d]\n",
    "$$\n",
    "Consider $C = b \\otimes A$ for some $b \\in \\mathbb{R}^{m}$. This should be the same as making $m$ copies of $A$ and multiplying each copy by different elements of $b$. Then\n",
    "$$\n",
    "    c(i_m, i_1, i_2, \\ldots, i_d) = b_{i_m} G_1[i_1]G_2[i_2]\\cdots G_d[i_d]\n",
    "$$\n",
    "\n",
    "So this is equivalent to adding dummy dimensions to make \n",
    "$b \\in \\mathbb{R}^{1\\times m\\times 1}$ and sticking it on the end of the tensor train.\n",
    "This seems intuitive on the surface -- we increase the dimensions by adding a new core.\n",
    "It also starts to make it feel quite suspiciously like we're going to end up with a\n",
    "pretty standard looking deep net if we apply this to the above tensor switching net.\n",
    "\n",
    "#### _Tensor train tensor switching network_\n",
    "\n",
    "We start with an input vector $Z_0 = X_0$, and for each layer $l$ compute:\n",
    "$$\n",
    "X_l = H(W_lX_{l-1}) \\\\\n",
    "Z_l = X_l \\otimes Z_{l-1}\n",
    "$$\n",
    "Treating $Z_0$ as the first core of a decomposition,\n",
    "this gives the following for an element of the penultimate layer:\n",
    "$$\n",
    "Z_L(i_L, i_{L-1}, \\ldots i_1) = X_L(i_L)X_{L-1}(i_{L-1}) \\cdots X_1(i_1).\n",
    "$$\n",
    "This is what we would expect. As the X are 0,1 for a value to propagate its way to the output,\n",
    "every layer has to let it through (but there are exponentially many chances for\n",
    "this to happen). Curiously, we haven't actually changed anything here -- the decomposition\n",
    "at this stage buys us nothing as the cores being added have to have tt-rank 1.\n",
    "\n",
    "The output layer is linear and needs to see all elements of $Z_L$. As we've gone to all the\n",
    "trouble of keeping $Z_L$ in a tensor train, it makes sense to try and avoid blowing it all\n",
    "back up right at the end, especially as it turns out to be a very low-rank tensor. The answer\n",
    "here is to realise what we're actually doing -- we want a linear operation to reduce a tensor\n",
    "a vector. We want to therefore contract away all the dimensions except one and then project\n",
    "that to the right size. This should be able to be realised in a single tensor-tensor product\n",
    "(which should turn out to be equivalent to flattening and doing a matrix product). If we \n",
    "recognise the tensor-tensor nature of this final layer, we can use a low-rank tensor train\n",
    "for the output weights and avoid horrible exponential sizes.\n",
    "\n",
    "Introduce a final weight tensor $U \\in \\mathbb{R}^{t, n_L \\times \\cdots \\times n_1}$ with a\n",
    "dimension per layer and an extra output dimension of size $t$. \n",
    "Denoting the output of the network $\\hat{Y}$, a single element should be\n",
    "$$\n",
    "\\hat{Y}_k = \\sum_{i_L, \\ldots i_1} U(k, i_L, \\ldots, i_1)Z_L(i_L, \\ldots, i_1)\n",
    "$$ (which affirms the intuition that it is the same as flattening an using matrices).\n",
    "\n",
    "Recalling the definition of $Z_l$ and letting $U$ be in the tt-format with $L+1$ cores $G_i$,\n",
    "$$\n",
    "\\hat{Y}_k = \\sum_{i_L, \\ldots i_1} G_{L+1}(k)G_{L}(i_L)\\cdots G_{1}(i_1) X_L(i_L)\\cdots X_1(i_1).\n",
    "$$ Seeing as the $X_j(i_j)$ are all in fact scalars, we can rearrange:\n",
    "$$\n",
    "\\hat{Y}_k = G_{L+1}(k) \\left(\\sum_{i_L}G_{L}(i_L) X_L(i_L)\\right) \\cdots \\left(\\sum_{i_1}G_1(i_1)\\right).\n",
    "$$ As $G_{L+1}(k)$ is a row vector, $G_{1}(i_1)$ is a column vector and the rest of the $G$\n",
    "slices are matrices the shapes work out nicely.\n",
    "\n",
    "We should be able now to define the whole network in one go -- the _analysis_ weights $U$ get\n",
    "folded in to each layer. This means each layer $l$ essentially has two outputs: the running\n",
    "product of the reduced $G_l$s (which we term $Y_l$ \n",
    "and the most recent activations $X_l$. The activations are used\n",
    "to compute the next set of activations, which are used to reduce the current $G_l$ which is in\n",
    "turn used to produce the output $Y_l$. Formally:\n",
    "$$\n",
    "X_l = H(W_lX_{l-1}) \\\\\n",
    "Y_l = \\left(\\sum_{i_l}G_l(i_l)X_l(i_l)\\right)Y_{l-1}\n",
    "$$\n",
    "and finally\n",
    "$$\n",
    "\\hat{Y} = G_{L+1} Y_L\n",
    "$$ (technically $G_{L+1}$ is a 3-tensor, but one dimension is 1 so here we treat it as a matrix).\n",
    "\n",
    "Probably it will turn out to be a good plan to add biases to the linear transformations.\n",
    "\n",
    "Note that each layer is performing a _bilinear product_ between the current $X$, the previous\n",
    "$Y$ and the 3-tensor core $G$. We could reduce parameters & computation significantly by\n",
    "storing the cores themselves in a decomposition -- the CP is good for bilinear products. For\n",
    "now though, we will just train relatively small nets and deal with the product in its full\n",
    "glory."
   ]
  },
  {
   "cell_type": "markdown",
   "metadata": {},
   "source": [
    "##### training\n",
    "\n",
    "We have a network, it's kind of nice. At each stage, we make some binary masks and use them to\n",
    "select slices of the $G$ to combine. The $G$ have a nice linear progression all the way to the\n",
    "input. The second key issue is still unresolved: how to train the $W_l$. Clearly the $G_l$\n",
    "should be fine with normal backprop, but the Heaviside step function has zero gradients.\n",
    "Therefore $W_l$ will never learn and we are doomed.\n",
    "\n",
    "Tsai, Saxe and Cox propose few methods, the only one which appears to remain relevant involves\n",
    "computing the pseudoinverse of the gradients of auxiliary variables to derive a\n",
    "pseudo-gradient for the problematic variables. This seems somewhat unpleasant, so it might\n",
    "be preferable to avoid it if possible.\n",
    "\n",
    "An alternative approach for backpropagating through binarising input functions is presented\n",
    "by [Courbariaux et al.](https://arxiv.org/pdf/1602.02830v3.pdf) (although not for the first\n",
    "time). They are using a sign function\n",
    "$$\n",
    "    q = S(r) = \\begin{cases} 1 & r > 0 \\\\\n",
    "    -1 & \\text{otherwise}\n",
    "    \\end{cases}\n",
    "$$ to binarize\n",
    "and use a pseudo-gradient referred to as the _straight through_ estimator (note that it\n",
    "is not an estimator -- the gradients are 0 or undefined, this does not require estimation).\n",
    "Using $S^*$ in the place of $S'$ to denote this false gradient, this approach defines:\n",
    "$$\n",
    "    S^*(r) = 1_{|r| \\leq 1}\n",
    "$$\n",
    "That is to say: a gradient of 1 unless the input is outside a certain range. This is precisely\n",
    "the gradient of the hard tanh function $h(r) = max(-1, min(1, r))$.\n",
    "\n",
    "The step function we are intending to use is very similar to the sign function above -- the\n",
    "only difference is that the lowest value it outputs is zero. This suggests we may succeed with\n",
    "a similar pseudo-gradient, so it is worth a shot. As the threshold is in the same place, there\n",
    "is probably no need to adjust the above.\n",
    "\n",
    "An alternative is to relax the decision function into something that does have a \n",
    "(sub-)gradient. One answer might be a sigmoid, although these are notoriously poor in deep\n",
    "feed-forward nets. An answer which retains a lot of desirable properties might be a variation\n",
    "on the hard tanh above: $s(r) = max(0, min(1, r))$. This is a kind of hard sigmoid, without\n",
    "the scaling usually applied. The scaling and shifting of the input is omitted for two reasons:\n",
    "firstly, if it is helpful the network should be able to learn it and secondly it maintains the\n",
    "same boundary as the heaviside step function -- any input less than zero will output zero.\n",
    "\n",
    "This hard sigmoid has a non-zero gradient when the input is between 0 and 1, so we may be able\n",
    "to learn something. Let's go ahead and implement both of these and compare."
   ]
  },
  {
   "cell_type": "code",
   "execution_count": 2,
   "metadata": {
    "collapsed": true
   },
   "outputs": [],
   "source": [
    "%matplotlib inline\n",
    "import matplotlib.pyplot as plt\n",
    "import numpy as np\n",
    "import tensorflow as tf\n",
    "\n",
    "# had to implement the fake gradient activation as its own op\n",
    "from ops import binary_connect\n",
    "from functools import partial\n",
    "\n",
    "bc_01 = partial(binary_connect, min_=0.0)\n",
    "\n",
    "from rnndatasets import sequentialmnist as data"
   ]
  },
  {
   "cell_type": "code",
   "execution_count": 3,
   "metadata": {
    "collapsed": true
   },
   "outputs": [],
   "source": [
    "def hard_sigmoid(activations):\n",
    "    return tf.maximum(0.0, tf.minimum(1.0, activations))\n",
    "\n",
    "def ttts_layer(previous_activations, previous_output, hidden_units, tensor_rank,\n",
    "               nonlin=hard_sigmoid, scope=None):\n",
    "    \"\"\"Makes a layer as described above. Tensor rank gets to only be a single integer\n",
    "    because previous_output should be [batch_size, previous_rank]\"\"\"\n",
    "    with tf.variable_scope(scope or 'ttts_layer'):\n",
    "        # first compute activations\n",
    "        input_shape = previous_activations.get_shape()[1].value\n",
    "        weights = tf.get_variable('weights', shape=[input_shape, hidden_units])\n",
    "        # give the biases a high-ish init and it will start off basically linear\n",
    "        biases = tf.get_variable('biases', shape=[hidden_units],\n",
    "                                 initializer=tf.constant_initializer(1.0))\n",
    "        acts = tf.nn.bias_add(tf.matmul(previous_activations, weights), biases)\n",
    "        acts = nonlin(acts)\n",
    "        \n",
    "        # now get the tt-core of the output tensor and do a bilinear product with\n",
    "        # previous_output and acts\n",
    "        prev_rank = previous_output.get_shape()[1].value\n",
    "        # we're going to do this all in terms of flattenings, so that we can use the\n",
    "        # nice big matmuls. The downside is there's a bit of exra storage\n",
    "        core = tf.get_variable('core', shape=[prev_rank*hidden_units, tensor_rank])\n",
    "        # if we take the outer product of previous_output and hidden_units then\n",
    "        # we can just multiply by the above. Regrettably this can be quite large.\n",
    "        # There's possibly a better way, but that can wait\n",
    "        outer = tf.batch_matmul(tf.expand_dims(previous_output, 2),\n",
    "                                tf.expand_dims(acts, 1))\n",
    "        outer = tf.reshape(outer, [-1, prev_rank*hidden_units])\n",
    "        output = tf.matmul(outer, core)\n",
    "        \n",
    "    return acts, output\n",
    "\n",
    "def get_full_net(input_var, num_outputs, depth, width, rank, nonlin=hard_sigmoid,\n",
    "                 scope=None):\n",
    "    \"\"\"Gets the full network. Not terribly flexible, all layers are the same\n",
    "    width and all of the TT cores are the same rank (except where they have\n",
    "    to be 1)\"\"\"\n",
    "    with tf.variable_scope(scope or 'ttttttttsnettt'):\n",
    "        activations, outputs = input_var, input_var\n",
    "        for layer in range(depth):\n",
    "            activations, outputs = ttts_layer(activations, outputs,\n",
    "                                              width, rank, nonlin,\n",
    "                                              'layer_{}'.format(layer))\n",
    "        # now the last layer is just a linear transform\n",
    "        # should be rank -> num_outputs\n",
    "        with tf.variable_scope('output_layer'):\n",
    "            weights = tf.get_variable('weights', [rank, num_outputs])\n",
    "            biases = tf.get_variable('biases', [num_outputs])\n",
    "            result = tf.nn.bias_add(tf.matmul(outputs, weights), biases)\n",
    "        return result\n",
    "    \n",
    "def count_params(scope):\n",
    "    return np.sum(\n",
    "        [np.prod([dim for dim in var.get_shape().as_list()]) \n",
    "         for var in tf.get_collection(tf.GraphKeys.TRAINABLE_VARIABLES, scope)])"
   ]
  },
  {
   "cell_type": "code",
   "execution_count": 34,
   "metadata": {
    "collapsed": false
   },
   "outputs": [
    {
     "name": "stdout",
     "output_type": "stream",
     "text": [
      "hard sigmoid: 1120910 parameters\n"
     ]
    }
   ],
   "source": [
    "BATCH_SIZE = 50\n",
    "LEARNING_RATE = 0.001\n",
    "NUM_EPOCHS = 100\n",
    "DEPTH = 4  # give it some depth, but not too much\n",
    "WIDTH = 50 # pretty narrow\n",
    "RANKS = 25 # very narrow\n",
    "\n",
    "tf.reset_default_graph()\n",
    "input_pl = tf.placeholder(tf.float32, shape=[BATCH_SIZE, 784], name='inputs')\n",
    "target_pl = tf.placeholder(tf.int32, shape=[BATCH_SIZE], name='targets')\n",
    "\n",
    "with tf.variable_scope('hs_net') as scope:\n",
    "    # default nonlin is hard_sigmoid\n",
    "    hs_net_out = get_full_net(input_pl, 10, DEPTH, WIDTH, RANKS, scope=scope)\n",
    "    \n",
    "    print('hard sigmoid: {} parameters'.format(count_params(scope.name)))\n",
    "    hs_net_loss = tf.nn.sparse_softmax_cross_entropy_with_logits(\n",
    "        hs_net_out, target_pl)\n",
    "    hs_net_loss = tf.reduce_mean(hs_net_loss)\n",
    "    hs_net_acc = tf.contrib.metrics.accuracy(tf.cast(tf.argmax(hs_net_out, 1), tf.int32),\n",
    "                                             target_pl)\n",
    "    hs_net_acc = tf.reduce_mean(hs_net_acc)\n",
    "    opt = tf.train.AdamOptimizer(LEARNING_RATE)\n",
    "    hs_net_train = opt.minimize(\n",
    "        hs_net_loss, var_list=tf.get_collection(tf.GraphKeys.TRAINABLE_VARIABLES, scope.name))"
   ]
  },
  {
   "cell_type": "code",
   "execution_count": 28,
   "metadata": {
    "collapsed": false
   },
   "outputs": [],
   "source": [
    "def run_epoch(data_iter, input_var, target_var, metrics, train_op, session):\n",
    "    \"\"\"run an epoch over the data, report metrics averaged over all the data\"\"\"\n",
    "    metric_sums = [0 for _ in metrics]\n",
    "    total_steps = 0\n",
    "    for image_batch, label_batch in data_iter:\n",
    "        feed = {input_var: image_batch,\n",
    "                target_var: label_batch}\n",
    "        results = session.run(metrics +  [train_op], feed)\n",
    "        # print some stuff so we know something is happening\n",
    "        if total_steps % 10 == 0:\n",
    "            print('\\r{:~^50}'.format(\n",
    "                    ','.join(['{:.4f}'.format(mval) for mval in results[:-1]])),\n",
    "                    end='', flush=True)\n",
    "        metric_sums = [old + new for old, new in zip(metric_sums, results[:-1])]\n",
    "        total_steps += 1\n",
    "    return [total/total_steps for total in metric_sums]"
   ]
  },
  {
   "cell_type": "code",
   "execution_count": 29,
   "metadata": {
    "collapsed": false
   },
   "outputs": [
    {
     "name": "stdout",
     "output_type": "stream",
     "text": [
      "initialised\n",
      "Epoch 0:\n",
      "~~Train: xent 0.6042817367551228, accuracy 0.8443333286667863\n",
      "~~Test: xent 1.4665421938151122, accuracy 0.6906000028550625\n",
      "Epoch 1:\n",
      "~~Train: xent 0.3644533261563629, accuracy 0.8967333301405112\n",
      "~~Test: xent 0.5023277029022575, accuracy 0.8640999940037727\n",
      "Epoch 2:\n",
      "~~Train: xent 0.28824481536401436, accuracy 0.9170833300550779\n",
      "~~Test: xent 0.3994241915596649, accuracy 0.8813999953866005\n",
      "Epoch 3:\n",
      "~~Train: xent 0.26466478634470453, accuracy 0.9232166640460491\n",
      "~~Test: xent 0.44998703652992844, accuracy 0.8738999971747399\n",
      "Epoch 4:\n",
      "~~Train: xent 0.24207905962636384, accuracy 0.9303833311299483\n",
      "~~Test: xent 0.3794989710999653, accuracy 0.8965999969840049\n",
      "Epoch 5:\n",
      "~~Train: xent 0.19386336663582673, accuracy 0.9415666649738947\n",
      "~~Test: xent 0.42816819265543016, accuracy 0.8896999976038933\n",
      "Epoch 6:\n",
      "~~Train: xent 0.1914539746903271, accuracy 0.9427999981741111\n",
      "~~Test: xent 0.35477183929644523, accuracy 0.9041999953985215\n",
      "Epoch 7:\n",
      "~~Train: xent 0.18187996664472544, accuracy 0.9462333314617475\n",
      "~~Test: xent 0.2511756828956277, accuracy 0.9354999983310699\n",
      "Epoch 8:\n",
      "~~Train: xent 0.1721550751288305, accuracy 0.9496833325425784\n",
      "~~Test: xent 0.36411026732472235, accuracy 0.9042999970912934\n",
      "Epoch 9:\n",
      "~~Train: xent 0.17973464249031773, accuracy 0.9467999984323978\n",
      "~~Test: xent 0.207285945150943, accuracy 0.9458999997377395\n",
      "Epoch 10:\n",
      "~~Train: xent 0.1572346991140512, accuracy 0.95303333217899\n",
      "~~Test: xent 0.31159319730883, accuracy 0.9218999981880188\n",
      "Epoch 11:\n",
      "~~Train: xent 0.16840879916989554, accuracy 0.9505333330233892\n",
      "~~Test: xent 0.28154187515290685, accuracy 0.9270999976992607\n",
      "Epoch 12:\n",
      "~~Train: xent 0.15514464283265017, accuracy 0.9535833315054576\n",
      "~~Test: xent 0.3394766905903816, accuracy 0.913399997651577\n",
      "Epoch 13:\n",
      "~~Train: xent 0.16215370867411064, accuracy 0.9523833320538203\n",
      "~~Test: xent 0.19018521895479354, accuracy 0.9519999992847442\n",
      "Epoch 14:\n",
      "~~Train: xent 0.14515446375454, accuracy 0.9572666655480861\n",
      "~~Test: xent 0.20863564313818642, accuracy 0.9443000003695488\n",
      "Epoch 15:\n",
      "~~Train: xent 0.14583525944229525, accuracy 0.95811666538318\n",
      "~~Test: xent 0.3826988498761784, accuracy 0.9135999980568886\n",
      "Epoch 16:\n",
      "~~Train: xent 0.14204049286364656, accuracy 0.9585499993463358\n",
      "~~Test: xent 0.22367389171893592, accuracy 0.9459999999403954\n",
      "Epoch 17:\n",
      "~~Train: xent 0.14293754586658905, accuracy 0.9581833332280318\n",
      "~~Test: xent 0.32109698430635036, accuracy 0.9219999977946282\n",
      "~~~~~~~~~~~~~~~~~~0.1734,0.9200~~~~~~~~~~~~~~~~~~~"
     ]
    },
    {
     "ename": "KeyboardInterrupt",
     "evalue": "",
     "output_type": "error",
     "traceback": [
      "\u001b[0;31m---------------------------------------------------------------------------\u001b[0m",
      "\u001b[0;31mKeyboardInterrupt\u001b[0m                         Traceback (most recent call last)",
      "\u001b[0;32m<ipython-input-29-6d443215b8df>\u001b[0m in \u001b[0;36m<module>\u001b[0;34m()\u001b[0m\n\u001b[1;32m     16\u001b[0m                               \u001b[0;34m[\u001b[0m\u001b[0mhs_net_loss\u001b[0m\u001b[0;34m,\u001b[0m \u001b[0mhs_net_acc\u001b[0m\u001b[0;34m]\u001b[0m\u001b[0;34m,\u001b[0m  \u001b[0;31m# things to report back on\u001b[0m\u001b[0;34m\u001b[0m\u001b[0m\n\u001b[1;32m     17\u001b[0m                               \u001b[0mhs_net_train\u001b[0m\u001b[0;34m,\u001b[0m  \u001b[0;31m# thing to do training\u001b[0m\u001b[0;34m\u001b[0m\u001b[0m\n\u001b[0;32m---> 18\u001b[0;31m                               sess)  # session to run it all\n\u001b[0m\u001b[1;32m     19\u001b[0m         \u001b[0mprint\u001b[0m\u001b[0;34m(\u001b[0m\u001b[0;34m'\\rEpoch {}:\\n~~Train: xent {}, accuracy {}'\u001b[0m\u001b[0;34m.\u001b[0m\u001b[0mformat\u001b[0m\u001b[0;34m(\u001b[0m\u001b[0mepoch\u001b[0m\u001b[0;34m,\u001b[0m \u001b[0mxent\u001b[0m\u001b[0;34m,\u001b[0m \u001b[0macc\u001b[0m\u001b[0;34m)\u001b[0m\u001b[0;34m)\u001b[0m\u001b[0;34m\u001b[0m\u001b[0m\n\u001b[1;32m     20\u001b[0m         \u001b[0;31m# record for plotting later\u001b[0m\u001b[0;34m\u001b[0m\u001b[0;34m\u001b[0m\u001b[0m\n",
      "\u001b[0;32m<ipython-input-28-a224d0cc44eb>\u001b[0m in \u001b[0;36mrun_epoch\u001b[0;34m(data_iter, input_var, target_var, metrics, train_op, session)\u001b[0m\n\u001b[1;32m      6\u001b[0m         feed = {input_var: image_batch,\n\u001b[1;32m      7\u001b[0m                 target_var: label_batch}\n\u001b[0;32m----> 8\u001b[0;31m         \u001b[0mresults\u001b[0m \u001b[0;34m=\u001b[0m \u001b[0msession\u001b[0m\u001b[0;34m.\u001b[0m\u001b[0mrun\u001b[0m\u001b[0;34m(\u001b[0m\u001b[0mmetrics\u001b[0m \u001b[0;34m+\u001b[0m  \u001b[0;34m[\u001b[0m\u001b[0mtrain_op\u001b[0m\u001b[0;34m]\u001b[0m\u001b[0;34m,\u001b[0m \u001b[0mfeed\u001b[0m\u001b[0;34m)\u001b[0m\u001b[0;34m\u001b[0m\u001b[0m\n\u001b[0m\u001b[1;32m      9\u001b[0m         \u001b[0;31m# print some stuff so we know something is happening\u001b[0m\u001b[0;34m\u001b[0m\u001b[0;34m\u001b[0m\u001b[0m\n\u001b[1;32m     10\u001b[0m         \u001b[0;32mif\u001b[0m \u001b[0mtotal_steps\u001b[0m \u001b[0;34m%\u001b[0m \u001b[0;36m10\u001b[0m \u001b[0;34m==\u001b[0m \u001b[0;36m0\u001b[0m\u001b[0;34m:\u001b[0m\u001b[0;34m\u001b[0m\u001b[0m\n",
      "\u001b[0;32m/Users/pfcmathews/.pyenv/versions/3.5.0/lib/python3.5/site-packages/tensorflow/python/client/session.py\u001b[0m in \u001b[0;36mrun\u001b[0;34m(self, fetches, feed_dict, options, run_metadata)\u001b[0m\n\u001b[1;32m    715\u001b[0m     \u001b[0;32mtry\u001b[0m\u001b[0;34m:\u001b[0m\u001b[0;34m\u001b[0m\u001b[0m\n\u001b[1;32m    716\u001b[0m       result = self._run(None, fetches, feed_dict, options_ptr,\n\u001b[0;32m--> 717\u001b[0;31m                          run_metadata_ptr)\n\u001b[0m\u001b[1;32m    718\u001b[0m       \u001b[0;32mif\u001b[0m \u001b[0mrun_metadata\u001b[0m\u001b[0;34m:\u001b[0m\u001b[0;34m\u001b[0m\u001b[0m\n\u001b[1;32m    719\u001b[0m         \u001b[0mproto_data\u001b[0m \u001b[0;34m=\u001b[0m \u001b[0mtf_session\u001b[0m\u001b[0;34m.\u001b[0m\u001b[0mTF_GetBuffer\u001b[0m\u001b[0;34m(\u001b[0m\u001b[0mrun_metadata_ptr\u001b[0m\u001b[0;34m)\u001b[0m\u001b[0;34m\u001b[0m\u001b[0m\n",
      "\u001b[0;32m/Users/pfcmathews/.pyenv/versions/3.5.0/lib/python3.5/site-packages/tensorflow/python/client/session.py\u001b[0m in \u001b[0;36m_run\u001b[0;34m(self, handle, fetches, feed_dict, options, run_metadata)\u001b[0m\n\u001b[1;32m    913\u001b[0m     \u001b[0;32mif\u001b[0m \u001b[0mfinal_fetches\u001b[0m \u001b[0;32mor\u001b[0m \u001b[0mfinal_targets\u001b[0m\u001b[0;34m:\u001b[0m\u001b[0;34m\u001b[0m\u001b[0m\n\u001b[1;32m    914\u001b[0m       results = self._do_run(handle, final_targets, final_fetches,\n\u001b[0;32m--> 915\u001b[0;31m                              feed_dict_string, options, run_metadata)\n\u001b[0m\u001b[1;32m    916\u001b[0m     \u001b[0;32melse\u001b[0m\u001b[0;34m:\u001b[0m\u001b[0;34m\u001b[0m\u001b[0m\n\u001b[1;32m    917\u001b[0m       \u001b[0mresults\u001b[0m \u001b[0;34m=\u001b[0m \u001b[0;34m[\u001b[0m\u001b[0;34m]\u001b[0m\u001b[0;34m\u001b[0m\u001b[0m\n",
      "\u001b[0;32m/Users/pfcmathews/.pyenv/versions/3.5.0/lib/python3.5/site-packages/tensorflow/python/client/session.py\u001b[0m in \u001b[0;36m_do_run\u001b[0;34m(self, handle, target_list, fetch_list, feed_dict, options, run_metadata)\u001b[0m\n\u001b[1;32m    963\u001b[0m     \u001b[0;32mif\u001b[0m \u001b[0mhandle\u001b[0m \u001b[0;32mis\u001b[0m \u001b[0;32mNone\u001b[0m\u001b[0;34m:\u001b[0m\u001b[0;34m\u001b[0m\u001b[0m\n\u001b[1;32m    964\u001b[0m       return self._do_call(_run_fn, self._session, feed_dict, fetch_list,\n\u001b[0;32m--> 965\u001b[0;31m                            target_list, options, run_metadata)\n\u001b[0m\u001b[1;32m    966\u001b[0m     \u001b[0;32melse\u001b[0m\u001b[0;34m:\u001b[0m\u001b[0;34m\u001b[0m\u001b[0m\n\u001b[1;32m    967\u001b[0m       return self._do_call(_prun_fn, self._session, handle, feed_dict,\n",
      "\u001b[0;32m/Users/pfcmathews/.pyenv/versions/3.5.0/lib/python3.5/site-packages/tensorflow/python/client/session.py\u001b[0m in \u001b[0;36m_do_call\u001b[0;34m(self, fn, *args)\u001b[0m\n\u001b[1;32m    970\u001b[0m   \u001b[0;32mdef\u001b[0m \u001b[0m_do_call\u001b[0m\u001b[0;34m(\u001b[0m\u001b[0mself\u001b[0m\u001b[0;34m,\u001b[0m \u001b[0mfn\u001b[0m\u001b[0;34m,\u001b[0m \u001b[0;34m*\u001b[0m\u001b[0margs\u001b[0m\u001b[0;34m)\u001b[0m\u001b[0;34m:\u001b[0m\u001b[0;34m\u001b[0m\u001b[0m\n\u001b[1;32m    971\u001b[0m     \u001b[0;32mtry\u001b[0m\u001b[0;34m:\u001b[0m\u001b[0;34m\u001b[0m\u001b[0m\n\u001b[0;32m--> 972\u001b[0;31m       \u001b[0;32mreturn\u001b[0m \u001b[0mfn\u001b[0m\u001b[0;34m(\u001b[0m\u001b[0;34m*\u001b[0m\u001b[0margs\u001b[0m\u001b[0;34m)\u001b[0m\u001b[0;34m\u001b[0m\u001b[0m\n\u001b[0m\u001b[1;32m    973\u001b[0m     \u001b[0;32mexcept\u001b[0m \u001b[0merrors\u001b[0m\u001b[0;34m.\u001b[0m\u001b[0mOpError\u001b[0m \u001b[0;32mas\u001b[0m \u001b[0me\u001b[0m\u001b[0;34m:\u001b[0m\u001b[0;34m\u001b[0m\u001b[0m\n\u001b[1;32m    974\u001b[0m       \u001b[0mmessage\u001b[0m \u001b[0;34m=\u001b[0m \u001b[0mcompat\u001b[0m\u001b[0;34m.\u001b[0m\u001b[0mas_text\u001b[0m\u001b[0;34m(\u001b[0m\u001b[0me\u001b[0m\u001b[0;34m.\u001b[0m\u001b[0mmessage\u001b[0m\u001b[0;34m)\u001b[0m\u001b[0;34m\u001b[0m\u001b[0m\n",
      "\u001b[0;32m/Users/pfcmathews/.pyenv/versions/3.5.0/lib/python3.5/site-packages/tensorflow/python/client/session.py\u001b[0m in \u001b[0;36m_run_fn\u001b[0;34m(session, feed_dict, fetch_list, target_list, options, run_metadata)\u001b[0m\n\u001b[1;32m    952\u001b[0m         return tf_session.TF_Run(session, options,\n\u001b[1;32m    953\u001b[0m                                  \u001b[0mfeed_dict\u001b[0m\u001b[0;34m,\u001b[0m \u001b[0mfetch_list\u001b[0m\u001b[0;34m,\u001b[0m \u001b[0mtarget_list\u001b[0m\u001b[0;34m,\u001b[0m\u001b[0;34m\u001b[0m\u001b[0m\n\u001b[0;32m--> 954\u001b[0;31m                                  status, run_metadata)\n\u001b[0m\u001b[1;32m    955\u001b[0m \u001b[0;34m\u001b[0m\u001b[0m\n\u001b[1;32m    956\u001b[0m     \u001b[0;32mdef\u001b[0m \u001b[0m_prun_fn\u001b[0m\u001b[0;34m(\u001b[0m\u001b[0msession\u001b[0m\u001b[0;34m,\u001b[0m \u001b[0mhandle\u001b[0m\u001b[0;34m,\u001b[0m \u001b[0mfeed_dict\u001b[0m\u001b[0;34m,\u001b[0m \u001b[0mfetch_list\u001b[0m\u001b[0;34m)\u001b[0m\u001b[0;34m:\u001b[0m\u001b[0;34m\u001b[0m\u001b[0m\n",
      "\u001b[0;31mKeyboardInterrupt\u001b[0m: "
     ]
    }
   ],
   "source": [
    "# now train\n",
    "hs_train_accs, hs_test_accs = [], []\n",
    "with tf.Session() as sess:\n",
    "    sess.run(tf.initialize_all_variables())\n",
    "    print('initialised')\n",
    "    train_data = data.get_data('train', 60000)\n",
    "    # fix the data from RNN format to feed-forward shapes\n",
    "    # it's a tuple, so redo the sequence\n",
    "    train_data = [train_data[0].reshape((-1, 784)), train_data[1]]\n",
    "    test_data = data.get_data('test', 10000)\n",
    "    test_data = [test_data[0].reshape((-1, 784)), test_data[1]]\n",
    "    \n",
    "    for epoch in range(NUM_EPOCHS):\n",
    "        train_iter = data.batch_iter(train_data, BATCH_SIZE, False)\n",
    "        xent, acc = run_epoch(train_iter, input_pl, target_pl,  # data\n",
    "                              [hs_net_loss, hs_net_acc],  # things to report back on\n",
    "                              hs_net_train,  # thing to do training\n",
    "                              sess)  # session to run it all\n",
    "        print('\\rEpoch {}:\\n~~Train: xent {}, accuracy {}'.format(epoch, xent, acc))\n",
    "        # record for plotting later\n",
    "        hs_train_accs.append(acc)\n",
    "        \n",
    "        # run it on the test data\n",
    "        test_iter = data.batch_iter(test_data, BATCH_SIZE, False)\n",
    "        xent, acc = run_epoch(test_iter, input_pl, target_pl,  # data\n",
    "                              [hs_net_loss, hs_net_acc],  # things to report back on\n",
    "                              tf.no_op(),  # no training\n",
    "                              sess)  # session to run it all\n",
    "        print('\\r~~~Test: xent {}, accuracy {}'.format(xent, acc))\n",
    "        hs_test_accs.append(acc)"
   ]
  },
  {
   "cell_type": "code",
   "execution_count": 30,
   "metadata": {
    "collapsed": false
   },
   "outputs": [
    {
     "data": {
      "text/plain": [
       "[<matplotlib.lines.Line2D at 0x10ff74978>]"
      ]
     },
     "execution_count": 30,
     "metadata": {},
     "output_type": "execute_result"
    },
    {
     "data": {
      "image/png": "[encoded data removed]",
      "text/plain": [
       "<matplotlib.figure.Figure at 0x10ff74a20>"
      ]
     },
     "metadata": {},
     "output_type": "display_data"
    }
   ],
   "source": [
    "x = np.arange(len(train_accs))\n",
    "plt.plot(x, hs_train_accs, ls='dashed', label='train')\n",
    "plt.plot(x, hs_test_accs, label='test')"
   ]
  },
  {
   "cell_type": "markdown",
   "metadata": {},
   "source": [
    "for extreme laziness, copy and paste to test with the proper binarization and fake gradients"
   ]
  },
  {
   "cell_type": "code",
   "execution_count": 39,
   "metadata": {
    "collapsed": false
   },
   "outputs": [
    {
     "name": "stdout",
     "output_type": "stream",
     "text": [
      "binarised: 1120910 parameters\n"
     ]
    }
   ],
   "source": [
    "tf.reset_default_graph()\n",
    "\n",
    "# can't do this one on GPU because I haven't done a GPU implementation of the binary connect\n",
    "# it seems like it shouldn't be hard, but in practive it's turned out to be a big pain\n",
    "# so we'll just pin everything to the cpu\n",
    "\n",
    "with tf.device('/cpu:0')\n",
    "    input_pl = tf.placeholder(tf.float32, shape=[BATCH_SIZE, 784], name='inputs')\n",
    "    target_pl = tf.placeholder(tf.int32, shape=[BATCH_SIZE], name='targets')\n",
    "\n",
    "    with tf.variable_scope('bc_net') as scope:\n",
    "        # default nonlin is hard_sigmoid\n",
    "        bc_net_out = get_full_net(input_pl, 10, DEPTH, WIDTH, RANKS, \n",
    "                                  nonlin=bc_01, scope=scope)\n",
    "        # should have the same number of params\n",
    "        print('binarised: {} parameters'.format(count_params(scope.name)))\n",
    "        bc_net_loss = tf.nn.sparse_softmax_cross_entropy_with_logits(\n",
    "            bc_net_out, target_pl)\n",
    "        bc_net_loss = tf.reduce_mean(bc_net_loss)\n",
    "        bc_net_acc = tf.contrib.metrics.accuracy(tf.cast(tf.argmax(bc_net_out, 1), tf.int32),\n",
    "                                                 target_pl)\n",
    "        bc_net_acc = tf.reduce_mean(bc_net_acc)\n",
    "        opt = tf.train.AdamOptimizer(LEARNING_RATE)\n",
    "        bc_net_train = opt.minimize(\n",
    "            bc_net_loss, var_list=tf.get_collection(tf.GraphKeys.TRAINABLE_VARIABLES, scope.name))"
   ]
  },
  {
   "cell_type": "code",
   "execution_count": 40,
   "metadata": {
    "collapsed": false
   },
   "outputs": [
    {
     "name": "stdout",
     "output_type": "stream",
     "text": [
      "initialised\n",
      "Epoch 0:\n",
      "~~Train: xent 0.7666185758138696, accuracy 0.8326499963365496\n",
      "~~~Test: xent 0.7457047777343542, accuracy 0.8300999969244003\n",
      "Epoch 1:\n",
      "~~Train: xent 0.3657683405280113, accuracy 0.8956833295027415\n",
      "~~~Test: xent 0.7640804758761078, accuracy 0.8279999986290931\n",
      "Epoch 2:\n",
      "~~Train: xent 0.2884339405417753, accuracy 0.9189333302776018\n",
      "~~~Test: xent 0.7450263647432439, accuracy 0.8394999948143959\n",
      "Epoch 3:\n",
      "~~Train: xent 0.2627443440632972, accuracy 0.9249499964217345\n",
      "~~~Test: xent 0.3873288920894265, accuracy 0.9060999965667724\n",
      "Epoch 4:\n",
      "~~Train: xent 0.23509742546166915, accuracy 0.931349997719129\n",
      "~~~Test: xent 0.7299170335382223, accuracy 0.8179999980330467\n",
      "Epoch 5:\n",
      "~~Train: xent 0.19192580066194448, accuracy 0.9437999982138475\n",
      "~~~Test: xent 0.21266644791903672, accuracy 0.9465999981760979\n",
      "Epoch 6:\n",
      "~~Train: xent 0.18601151112020792, accuracy 0.944916665405035\n",
      "~~~Test: xent 0.27359937732573597, accuracy 0.93259999781847\n",
      "Epoch 7:\n",
      "~~Train: xent 0.1809715113263034, accuracy 0.9463666655123234\n",
      "~~~Test: xent 0.19986148547235644, accuracy 0.9464999985694885\n",
      "Epoch 8:\n",
      "~~Train: xent 0.17236755146974853, accuracy 0.9488166652123133\n",
      "~~~Test: xent 0.27019321385218065, accuracy 0.9270999959111214\n",
      "~~~~~~~~~~~~~~~~~~0.1205,0.9600~~~~~~~~~~~~~~~~~~~"
     ]
    },
    {
     "ename": "KeyboardInterrupt",
     "evalue": "",
     "output_type": "error",
     "traceback": [
      "\u001b[0;31m---------------------------------------------------------------------------\u001b[0m",
      "\u001b[0;31mKeyboardInterrupt\u001b[0m                         Traceback (most recent call last)",
      "\u001b[0;32m<ipython-input-40-1a4015ab1a9c>\u001b[0m in \u001b[0;36m<module>\u001b[0;34m()\u001b[0m\n\u001b[1;32m     16\u001b[0m                               \u001b[0;34m[\u001b[0m\u001b[0mbc_net_loss\u001b[0m\u001b[0;34m,\u001b[0m \u001b[0mbc_net_acc\u001b[0m\u001b[0;34m]\u001b[0m\u001b[0;34m,\u001b[0m  \u001b[0;31m# things to report back on\u001b[0m\u001b[0;34m\u001b[0m\u001b[0m\n\u001b[1;32m     17\u001b[0m                               \u001b[0mbc_net_train\u001b[0m\u001b[0;34m,\u001b[0m  \u001b[0;31m# thing to do training\u001b[0m\u001b[0;34m\u001b[0m\u001b[0m\n\u001b[0;32m---> 18\u001b[0;31m                               sess)  # session to run it all\n\u001b[0m\u001b[1;32m     19\u001b[0m         \u001b[0mprint\u001b[0m\u001b[0;34m(\u001b[0m\u001b[0;34m'\\rEpoch {}:\\n~~Train: xent {}, accuracy {}'\u001b[0m\u001b[0;34m.\u001b[0m\u001b[0mformat\u001b[0m\u001b[0;34m(\u001b[0m\u001b[0mepoch\u001b[0m\u001b[0;34m,\u001b[0m \u001b[0mxent\u001b[0m\u001b[0;34m,\u001b[0m \u001b[0macc\u001b[0m\u001b[0;34m)\u001b[0m\u001b[0;34m)\u001b[0m\u001b[0;34m\u001b[0m\u001b[0m\n\u001b[1;32m     20\u001b[0m         \u001b[0;31m# record for plotting later\u001b[0m\u001b[0;34m\u001b[0m\u001b[0;34m\u001b[0m\u001b[0m\n",
      "\u001b[0;32m<ipython-input-28-a224d0cc44eb>\u001b[0m in \u001b[0;36mrun_epoch\u001b[0;34m(data_iter, input_var, target_var, metrics, train_op, session)\u001b[0m\n\u001b[1;32m      6\u001b[0m         feed = {input_var: image_batch,\n\u001b[1;32m      7\u001b[0m                 target_var: label_batch}\n\u001b[0;32m----> 8\u001b[0;31m         \u001b[0mresults\u001b[0m \u001b[0;34m=\u001b[0m \u001b[0msession\u001b[0m\u001b[0;34m.\u001b[0m\u001b[0mrun\u001b[0m\u001b[0;34m(\u001b[0m\u001b[0mmetrics\u001b[0m \u001b[0;34m+\u001b[0m  \u001b[0;34m[\u001b[0m\u001b[0mtrain_op\u001b[0m\u001b[0;34m]\u001b[0m\u001b[0;34m,\u001b[0m \u001b[0mfeed\u001b[0m\u001b[0;34m)\u001b[0m\u001b[0;34m\u001b[0m\u001b[0m\n\u001b[0m\u001b[1;32m      9\u001b[0m         \u001b[0;31m# print some stuff so we know something is happening\u001b[0m\u001b[0;34m\u001b[0m\u001b[0;34m\u001b[0m\u001b[0m\n\u001b[1;32m     10\u001b[0m         \u001b[0;32mif\u001b[0m \u001b[0mtotal_steps\u001b[0m \u001b[0;34m%\u001b[0m \u001b[0;36m10\u001b[0m \u001b[0;34m==\u001b[0m \u001b[0;36m0\u001b[0m\u001b[0;34m:\u001b[0m\u001b[0;34m\u001b[0m\u001b[0m\n",
      "\u001b[0;32m/Users/pfcmathews/.pyenv/versions/3.5.0/lib/python3.5/site-packages/tensorflow/python/client/session.py\u001b[0m in \u001b[0;36mrun\u001b[0;34m(self, fetches, feed_dict, options, run_metadata)\u001b[0m\n\u001b[1;32m    715\u001b[0m     \u001b[0;32mtry\u001b[0m\u001b[0;34m:\u001b[0m\u001b[0;34m\u001b[0m\u001b[0m\n\u001b[1;32m    716\u001b[0m       result = self._run(None, fetches, feed_dict, options_ptr,\n\u001b[0;32m--> 717\u001b[0;31m                          run_metadata_ptr)\n\u001b[0m\u001b[1;32m    718\u001b[0m       \u001b[0;32mif\u001b[0m \u001b[0mrun_metadata\u001b[0m\u001b[0;34m:\u001b[0m\u001b[0;34m\u001b[0m\u001b[0m\n\u001b[1;32m    719\u001b[0m         \u001b[0mproto_data\u001b[0m \u001b[0;34m=\u001b[0m \u001b[0mtf_session\u001b[0m\u001b[0;34m.\u001b[0m\u001b[0mTF_GetBuffer\u001b[0m\u001b[0;34m(\u001b[0m\u001b[0mrun_metadata_ptr\u001b[0m\u001b[0;34m)\u001b[0m\u001b[0;34m\u001b[0m\u001b[0m\n",
      "\u001b[0;32m/Users/pfcmathews/.pyenv/versions/3.5.0/lib/python3.5/site-packages/tensorflow/python/client/session.py\u001b[0m in \u001b[0;36m_run\u001b[0;34m(self, handle, fetches, feed_dict, options, run_metadata)\u001b[0m\n\u001b[1;32m    913\u001b[0m     \u001b[0;32mif\u001b[0m \u001b[0mfinal_fetches\u001b[0m \u001b[0;32mor\u001b[0m \u001b[0mfinal_targets\u001b[0m\u001b[0;34m:\u001b[0m\u001b[0;34m\u001b[0m\u001b[0m\n\u001b[1;32m    914\u001b[0m       results = self._do_run(handle, final_targets, final_fetches,\n\u001b[0;32m--> 915\u001b[0;31m                              feed_dict_string, options, run_metadata)\n\u001b[0m\u001b[1;32m    916\u001b[0m     \u001b[0;32melse\u001b[0m\u001b[0;34m:\u001b[0m\u001b[0;34m\u001b[0m\u001b[0m\n\u001b[1;32m    917\u001b[0m       \u001b[0mresults\u001b[0m \u001b[0;34m=\u001b[0m \u001b[0;34m[\u001b[0m\u001b[0;34m]\u001b[0m\u001b[0;34m\u001b[0m\u001b[0m\n",
      "\u001b[0;32m/Users/pfcmathews/.pyenv/versions/3.5.0/lib/python3.5/site-packages/tensorflow/python/client/session.py\u001b[0m in \u001b[0;36m_do_run\u001b[0;34m(self, handle, target_list, fetch_list, feed_dict, options, run_metadata)\u001b[0m\n\u001b[1;32m    963\u001b[0m     \u001b[0;32mif\u001b[0m \u001b[0mhandle\u001b[0m \u001b[0;32mis\u001b[0m \u001b[0;32mNone\u001b[0m\u001b[0;34m:\u001b[0m\u001b[0;34m\u001b[0m\u001b[0m\n\u001b[1;32m    964\u001b[0m       return self._do_call(_run_fn, self._session, feed_dict, fetch_list,\n\u001b[0;32m--> 965\u001b[0;31m                            target_list, options, run_metadata)\n\u001b[0m\u001b[1;32m    966\u001b[0m     \u001b[0;32melse\u001b[0m\u001b[0;34m:\u001b[0m\u001b[0;34m\u001b[0m\u001b[0m\n\u001b[1;32m    967\u001b[0m       return self._do_call(_prun_fn, self._session, handle, feed_dict,\n",
      "\u001b[0;32m/Users/pfcmathews/.pyenv/versions/3.5.0/lib/python3.5/site-packages/tensorflow/python/client/session.py\u001b[0m in \u001b[0;36m_do_call\u001b[0;34m(self, fn, *args)\u001b[0m\n\u001b[1;32m    970\u001b[0m   \u001b[0;32mdef\u001b[0m \u001b[0m_do_call\u001b[0m\u001b[0;34m(\u001b[0m\u001b[0mself\u001b[0m\u001b[0;34m,\u001b[0m \u001b[0mfn\u001b[0m\u001b[0;34m,\u001b[0m \u001b[0;34m*\u001b[0m\u001b[0margs\u001b[0m\u001b[0;34m)\u001b[0m\u001b[0;34m:\u001b[0m\u001b[0;34m\u001b[0m\u001b[0m\n\u001b[1;32m    971\u001b[0m     \u001b[0;32mtry\u001b[0m\u001b[0;34m:\u001b[0m\u001b[0;34m\u001b[0m\u001b[0m\n\u001b[0;32m--> 972\u001b[0;31m       \u001b[0;32mreturn\u001b[0m \u001b[0mfn\u001b[0m\u001b[0;34m(\u001b[0m\u001b[0;34m*\u001b[0m\u001b[0margs\u001b[0m\u001b[0;34m)\u001b[0m\u001b[0;34m\u001b[0m\u001b[0m\n\u001b[0m\u001b[1;32m    973\u001b[0m     \u001b[0;32mexcept\u001b[0m \u001b[0merrors\u001b[0m\u001b[0;34m.\u001b[0m\u001b[0mOpError\u001b[0m \u001b[0;32mas\u001b[0m \u001b[0me\u001b[0m\u001b[0;34m:\u001b[0m\u001b[0;34m\u001b[0m\u001b[0m\n\u001b[1;32m    974\u001b[0m       \u001b[0mmessage\u001b[0m \u001b[0;34m=\u001b[0m \u001b[0mcompat\u001b[0m\u001b[0;34m.\u001b[0m\u001b[0mas_text\u001b[0m\u001b[0;34m(\u001b[0m\u001b[0me\u001b[0m\u001b[0;34m.\u001b[0m\u001b[0mmessage\u001b[0m\u001b[0;34m)\u001b[0m\u001b[0;34m\u001b[0m\u001b[0m\n",
      "\u001b[0;32m/Users/pfcmathews/.pyenv/versions/3.5.0/lib/python3.5/site-packages/tensorflow/python/client/session.py\u001b[0m in \u001b[0;36m_run_fn\u001b[0;34m(session, feed_dict, fetch_list, target_list, options, run_metadata)\u001b[0m\n\u001b[1;32m    952\u001b[0m         return tf_session.TF_Run(session, options,\n\u001b[1;32m    953\u001b[0m                                  \u001b[0mfeed_dict\u001b[0m\u001b[0;34m,\u001b[0m \u001b[0mfetch_list\u001b[0m\u001b[0;34m,\u001b[0m \u001b[0mtarget_list\u001b[0m\u001b[0;34m,\u001b[0m\u001b[0;34m\u001b[0m\u001b[0m\n\u001b[0;32m--> 954\u001b[0;31m                                  status, run_metadata)\n\u001b[0m\u001b[1;32m    955\u001b[0m \u001b[0;34m\u001b[0m\u001b[0m\n\u001b[1;32m    956\u001b[0m     \u001b[0;32mdef\u001b[0m \u001b[0m_prun_fn\u001b[0m\u001b[0;34m(\u001b[0m\u001b[0msession\u001b[0m\u001b[0;34m,\u001b[0m \u001b[0mhandle\u001b[0m\u001b[0;34m,\u001b[0m \u001b[0mfeed_dict\u001b[0m\u001b[0;34m,\u001b[0m \u001b[0mfetch_list\u001b[0m\u001b[0;34m)\u001b[0m\u001b[0;34m:\u001b[0m\u001b[0;34m\u001b[0m\u001b[0m\n",
      "\u001b[0;31mKeyboardInterrupt\u001b[0m: "
     ]
    }
   ],
   "source": [
    "# now train\n",
    "bc_train_accs, bc_test_accs = [], []\n",
    "with tf.Session() as sess:\n",
    "    sess.run(tf.initialize_all_variables())\n",
    "    print('initialised')\n",
    "    train_data = data.get_data('train', 60000)\n",
    "    # fix the data from RNN format to feed-forward shapes\n",
    "    # it's a tuple, so redo the sequence\n",
    "    train_data = [train_data[0].reshape((-1, 784)), train_data[1]]\n",
    "    test_data = data.get_data('test', 10000)\n",
    "    test_data = [test_data[0].reshape((-1, 784)), test_data[1]]\n",
    "    \n",
    "    for epoch in range(NUM_EPOCHS):\n",
    "        train_iter = data.batch_iter(train_data, BATCH_SIZE, False)\n",
    "        xent, acc = run_epoch(train_iter, input_pl, target_pl,  # data\n",
    "                              [bc_net_loss, bc_net_acc],  # things to report back on\n",
    "                              bc_net_train,  # thing to do training\n",
    "                              sess)  # session to run it all\n",
    "        print('\\rEpoch {}:\\n~~Train: xent {}, accuracy {}'.format(epoch, xent, acc))\n",
    "        # record for plotting later\n",
    "        bc_test_accs.append(acc)\n",
    "        \n",
    "        # run it on the test data\n",
    "        test_iter = data.batch_iter(test_data, BATCH_SIZE, False)\n",
    "        xent, acc = run_epoch(test_iter, input_pl, target_pl,  # data\n",
    "                              [bc_net_loss, bc_net_acc],  # things to report back on\n",
    "                              tf.no_op(),  # no training\n",
    "                              sess)  # session to run it all\n",
    "        print('\\r~~~Test: xent {}, accuracy {}'.format(xent, acc))\n",
    "        bc_test_accs.append(acc)"
   ]
  },
  {
   "cell_type": "code",
   "execution_count": 42,
   "metadata": {
    "collapsed": false
   },
   "outputs": [
    {
     "ename": "ValueError",
     "evalue": "x and y must have same first dimension",
     "output_type": "error",
     "traceback": [
      "\u001b[0;31m---------------------------------------------------------------------------\u001b[0m",
      "\u001b[0;31mValueError\u001b[0m                                Traceback (most recent call last)",
      "\u001b[0;32m<ipython-input-42-9000cbf2fd8d>\u001b[0m in \u001b[0;36m<module>\u001b[0;34m()\u001b[0m\n\u001b[1;32m      1\u001b[0m \u001b[0mx\u001b[0m \u001b[0;34m=\u001b[0m \u001b[0mnp\u001b[0m\u001b[0;34m.\u001b[0m\u001b[0marange\u001b[0m\u001b[0;34m(\u001b[0m\u001b[0mlen\u001b[0m\u001b[0;34m(\u001b[0m\u001b[0mbc_train_accs\u001b[0m\u001b[0;34m)\u001b[0m\u001b[0;34m)\u001b[0m\u001b[0;34m\u001b[0m\u001b[0m\n\u001b[1;32m      2\u001b[0m \u001b[0mplt\u001b[0m\u001b[0;34m.\u001b[0m\u001b[0mplot\u001b[0m\u001b[0;34m(\u001b[0m\u001b[0mx\u001b[0m\u001b[0;34m,\u001b[0m \u001b[0mbc_train_accs\u001b[0m\u001b[0;34m,\u001b[0m \u001b[0mls\u001b[0m\u001b[0;34m=\u001b[0m\u001b[0;34m'dashed'\u001b[0m\u001b[0;34m,\u001b[0m \u001b[0mlabel\u001b[0m\u001b[0;34m=\u001b[0m\u001b[0;34m'train'\u001b[0m\u001b[0;34m)\u001b[0m\u001b[0;34m\u001b[0m\u001b[0m\n\u001b[0;32m----> 3\u001b[0;31m \u001b[0mplt\u001b[0m\u001b[0;34m.\u001b[0m\u001b[0mplot\u001b[0m\u001b[0;34m(\u001b[0m\u001b[0mx\u001b[0m\u001b[0;34m,\u001b[0m \u001b[0mbc_test_accs\u001b[0m\u001b[0;34m,\u001b[0m \u001b[0mlabel\u001b[0m\u001b[0;34m=\u001b[0m\u001b[0;34m'test'\u001b[0m\u001b[0;34m)\u001b[0m\u001b[0;34m\u001b[0m\u001b[0m\n\u001b[0m",
      "\u001b[0;32m/Users/pfcmathews/.pyenv/versions/3.5.0/lib/python3.5/site-packages/matplotlib/pyplot.py\u001b[0m in \u001b[0;36mplot\u001b[0;34m(*args, **kwargs)\u001b[0m\n\u001b[1;32m   3159\u001b[0m         \u001b[0max\u001b[0m\u001b[0;34m.\u001b[0m\u001b[0mhold\u001b[0m\u001b[0;34m(\u001b[0m\u001b[0mhold\u001b[0m\u001b[0;34m)\u001b[0m\u001b[0;34m\u001b[0m\u001b[0m\n\u001b[1;32m   3160\u001b[0m     \u001b[0;32mtry\u001b[0m\u001b[0;34m:\u001b[0m\u001b[0;34m\u001b[0m\u001b[0m\n\u001b[0;32m-> 3161\u001b[0;31m         \u001b[0mret\u001b[0m \u001b[0;34m=\u001b[0m \u001b[0max\u001b[0m\u001b[0;34m.\u001b[0m\u001b[0mplot\u001b[0m\u001b[0;34m(\u001b[0m\u001b[0;34m*\u001b[0m\u001b[0margs\u001b[0m\u001b[0;34m,\u001b[0m \u001b[0;34m**\u001b[0m\u001b[0mkwargs\u001b[0m\u001b[0;34m)\u001b[0m\u001b[0;34m\u001b[0m\u001b[0m\n\u001b[0m\u001b[1;32m   3162\u001b[0m     \u001b[0;32mfinally\u001b[0m\u001b[0;34m:\u001b[0m\u001b[0;34m\u001b[0m\u001b[0m\n\u001b[1;32m   3163\u001b[0m         \u001b[0max\u001b[0m\u001b[0;34m.\u001b[0m\u001b[0mhold\u001b[0m\u001b[0;34m(\u001b[0m\u001b[0mwashold\u001b[0m\u001b[0;34m)\u001b[0m\u001b[0;34m\u001b[0m\u001b[0m\n",
      "\u001b[0;32m/Users/pfcmathews/.pyenv/versions/3.5.0/lib/python3.5/site-packages/matplotlib/__init__.py\u001b[0m in \u001b[0;36minner\u001b[0;34m(ax, *args, **kwargs)\u001b[0m\n\u001b[1;32m   1817\u001b[0m                     warnings.warn(msg % (label_namer, func.__name__),\n\u001b[1;32m   1818\u001b[0m                                   RuntimeWarning, stacklevel=2)\n\u001b[0;32m-> 1819\u001b[0;31m             \u001b[0;32mreturn\u001b[0m \u001b[0mfunc\u001b[0m\u001b[0;34m(\u001b[0m\u001b[0max\u001b[0m\u001b[0;34m,\u001b[0m \u001b[0;34m*\u001b[0m\u001b[0margs\u001b[0m\u001b[0;34m,\u001b[0m \u001b[0;34m**\u001b[0m\u001b[0mkwargs\u001b[0m\u001b[0;34m)\u001b[0m\u001b[0;34m\u001b[0m\u001b[0m\n\u001b[0m\u001b[1;32m   1820\u001b[0m         \u001b[0mpre_doc\u001b[0m \u001b[0;34m=\u001b[0m \u001b[0minner\u001b[0m\u001b[0;34m.\u001b[0m\u001b[0m__doc__\u001b[0m\u001b[0;34m\u001b[0m\u001b[0m\n\u001b[1;32m   1821\u001b[0m         \u001b[0;32mif\u001b[0m \u001b[0mpre_doc\u001b[0m \u001b[0;32mis\u001b[0m \u001b[0;32mNone\u001b[0m\u001b[0;34m:\u001b[0m\u001b[0;34m\u001b[0m\u001b[0m\n",
      "\u001b[0;32m/Users/pfcmathews/.pyenv/versions/3.5.0/lib/python3.5/site-packages/matplotlib/axes/_axes.py\u001b[0m in \u001b[0;36mplot\u001b[0;34m(self, *args, **kwargs)\u001b[0m\n\u001b[1;32m   1380\u001b[0m         \u001b[0mkwargs\u001b[0m \u001b[0;34m=\u001b[0m \u001b[0mcbook\u001b[0m\u001b[0;34m.\u001b[0m\u001b[0mnormalize_kwargs\u001b[0m\u001b[0;34m(\u001b[0m\u001b[0mkwargs\u001b[0m\u001b[0;34m,\u001b[0m \u001b[0m_alias_map\u001b[0m\u001b[0;34m)\u001b[0m\u001b[0;34m\u001b[0m\u001b[0m\n\u001b[1;32m   1381\u001b[0m \u001b[0;34m\u001b[0m\u001b[0m\n\u001b[0;32m-> 1382\u001b[0;31m         \u001b[0;32mfor\u001b[0m \u001b[0mline\u001b[0m \u001b[0;32min\u001b[0m \u001b[0mself\u001b[0m\u001b[0;34m.\u001b[0m\u001b[0m_get_lines\u001b[0m\u001b[0;34m(\u001b[0m\u001b[0;34m*\u001b[0m\u001b[0margs\u001b[0m\u001b[0;34m,\u001b[0m \u001b[0;34m**\u001b[0m\u001b[0mkwargs\u001b[0m\u001b[0;34m)\u001b[0m\u001b[0;34m:\u001b[0m\u001b[0;34m\u001b[0m\u001b[0m\n\u001b[0m\u001b[1;32m   1383\u001b[0m             \u001b[0mself\u001b[0m\u001b[0;34m.\u001b[0m\u001b[0madd_line\u001b[0m\u001b[0;34m(\u001b[0m\u001b[0mline\u001b[0m\u001b[0;34m)\u001b[0m\u001b[0;34m\u001b[0m\u001b[0m\n\u001b[1;32m   1384\u001b[0m             \u001b[0mlines\u001b[0m\u001b[0;34m.\u001b[0m\u001b[0mappend\u001b[0m\u001b[0;34m(\u001b[0m\u001b[0mline\u001b[0m\u001b[0;34m)\u001b[0m\u001b[0;34m\u001b[0m\u001b[0m\n",
      "\u001b[0;32m/Users/pfcmathews/.pyenv/versions/3.5.0/lib/python3.5/site-packages/matplotlib/axes/_base.py\u001b[0m in \u001b[0;36m_grab_next_args\u001b[0;34m(self, *args, **kwargs)\u001b[0m\n\u001b[1;32m    379\u001b[0m                 \u001b[0;32mreturn\u001b[0m\u001b[0;34m\u001b[0m\u001b[0m\n\u001b[1;32m    380\u001b[0m             \u001b[0;32mif\u001b[0m \u001b[0mlen\u001b[0m\u001b[0;34m(\u001b[0m\u001b[0mremaining\u001b[0m\u001b[0;34m)\u001b[0m \u001b[0;34m<=\u001b[0m \u001b[0;36m3\u001b[0m\u001b[0;34m:\u001b[0m\u001b[0;34m\u001b[0m\u001b[0m\n\u001b[0;32m--> 381\u001b[0;31m                 \u001b[0;32mfor\u001b[0m \u001b[0mseg\u001b[0m \u001b[0;32min\u001b[0m \u001b[0mself\u001b[0m\u001b[0;34m.\u001b[0m\u001b[0m_plot_args\u001b[0m\u001b[0;34m(\u001b[0m\u001b[0mremaining\u001b[0m\u001b[0;34m,\u001b[0m \u001b[0mkwargs\u001b[0m\u001b[0;34m)\u001b[0m\u001b[0;34m:\u001b[0m\u001b[0;34m\u001b[0m\u001b[0m\n\u001b[0m\u001b[1;32m    382\u001b[0m                     \u001b[0;32myield\u001b[0m \u001b[0mseg\u001b[0m\u001b[0;34m\u001b[0m\u001b[0m\n\u001b[1;32m    383\u001b[0m                 \u001b[0;32mreturn\u001b[0m\u001b[0;34m\u001b[0m\u001b[0m\n",
      "\u001b[0;32m/Users/pfcmathews/.pyenv/versions/3.5.0/lib/python3.5/site-packages/matplotlib/axes/_base.py\u001b[0m in \u001b[0;36m_plot_args\u001b[0;34m(self, tup, kwargs)\u001b[0m\n\u001b[1;32m    357\u001b[0m             \u001b[0mx\u001b[0m\u001b[0;34m,\u001b[0m \u001b[0my\u001b[0m \u001b[0;34m=\u001b[0m \u001b[0mindex_of\u001b[0m\u001b[0;34m(\u001b[0m\u001b[0mtup\u001b[0m\u001b[0;34m[\u001b[0m\u001b[0;34m-\u001b[0m\u001b[0;36m1\u001b[0m\u001b[0;34m]\u001b[0m\u001b[0;34m)\u001b[0m\u001b[0;34m\u001b[0m\u001b[0m\n\u001b[1;32m    358\u001b[0m \u001b[0;34m\u001b[0m\u001b[0m\n\u001b[0;32m--> 359\u001b[0;31m         \u001b[0mx\u001b[0m\u001b[0;34m,\u001b[0m \u001b[0my\u001b[0m \u001b[0;34m=\u001b[0m \u001b[0mself\u001b[0m\u001b[0;34m.\u001b[0m\u001b[0m_xy_from_xy\u001b[0m\u001b[0;34m(\u001b[0m\u001b[0mx\u001b[0m\u001b[0;34m,\u001b[0m \u001b[0my\u001b[0m\u001b[0;34m)\u001b[0m\u001b[0;34m\u001b[0m\u001b[0m\n\u001b[0m\u001b[1;32m    360\u001b[0m \u001b[0;34m\u001b[0m\u001b[0m\n\u001b[1;32m    361\u001b[0m         \u001b[0;32mif\u001b[0m \u001b[0mself\u001b[0m\u001b[0;34m.\u001b[0m\u001b[0mcommand\u001b[0m \u001b[0;34m==\u001b[0m \u001b[0;34m'plot'\u001b[0m\u001b[0;34m:\u001b[0m\u001b[0;34m\u001b[0m\u001b[0m\n",
      "\u001b[0;32m/Users/pfcmathews/.pyenv/versions/3.5.0/lib/python3.5/site-packages/matplotlib/axes/_base.py\u001b[0m in \u001b[0;36m_xy_from_xy\u001b[0;34m(self, x, y)\u001b[0m\n\u001b[1;32m    217\u001b[0m         \u001b[0my\u001b[0m \u001b[0;34m=\u001b[0m \u001b[0m_check_1d\u001b[0m\u001b[0;34m(\u001b[0m\u001b[0my\u001b[0m\u001b[0;34m)\u001b[0m\u001b[0;34m\u001b[0m\u001b[0m\n\u001b[1;32m    218\u001b[0m         \u001b[0;32mif\u001b[0m \u001b[0mx\u001b[0m\u001b[0;34m.\u001b[0m\u001b[0mshape\u001b[0m\u001b[0;34m[\u001b[0m\u001b[0;36m0\u001b[0m\u001b[0;34m]\u001b[0m \u001b[0;34m!=\u001b[0m \u001b[0my\u001b[0m\u001b[0;34m.\u001b[0m\u001b[0mshape\u001b[0m\u001b[0;34m[\u001b[0m\u001b[0;36m0\u001b[0m\u001b[0;34m]\u001b[0m\u001b[0;34m:\u001b[0m\u001b[0;34m\u001b[0m\u001b[0m\n\u001b[0;32m--> 219\u001b[0;31m             \u001b[0;32mraise\u001b[0m \u001b[0mValueError\u001b[0m\u001b[0;34m(\u001b[0m\u001b[0;34m\"x and y must have same first dimension\"\u001b[0m\u001b[0;34m)\u001b[0m\u001b[0;34m\u001b[0m\u001b[0m\n\u001b[0m\u001b[1;32m    220\u001b[0m         \u001b[0;32mif\u001b[0m \u001b[0mx\u001b[0m\u001b[0;34m.\u001b[0m\u001b[0mndim\u001b[0m \u001b[0;34m>\u001b[0m \u001b[0;36m2\u001b[0m \u001b[0;32mor\u001b[0m \u001b[0my\u001b[0m\u001b[0;34m.\u001b[0m\u001b[0mndim\u001b[0m \u001b[0;34m>\u001b[0m \u001b[0;36m2\u001b[0m\u001b[0;34m:\u001b[0m\u001b[0;34m\u001b[0m\u001b[0m\n\u001b[1;32m    221\u001b[0m             \u001b[0;32mraise\u001b[0m \u001b[0mValueError\u001b[0m\u001b[0;34m(\u001b[0m\u001b[0;34m\"x and y can be no greater than 2-D\"\u001b[0m\u001b[0;34m)\u001b[0m\u001b[0;34m\u001b[0m\u001b[0m\n",
      "\u001b[0;31mValueError\u001b[0m: x and y must have same first dimension"
     ]
    },
    {
     "data": {
      "image/png": "[encoded data removed]",
      "text/plain": [
       "<matplotlib.figure.Figure at 0x11763d358>"
      ]
     },
     "metadata": {},
     "output_type": "display_data"
    }
   ],
   "source": [
    "x = np.arange(len(bc_train_accs))\n",
    "plt.plot(x, bc_train_accs, ls='dashed', label='train')\n",
    "plt.plot(x, bc_test_accs, label='test')"
   ]
  },
  {
   "cell_type": "markdown",
   "metadata": {},
   "source": [
    "### Comparison\n",
    "\n",
    "Note that a fully connected net, even with just two layers, will probably get 97-98% with\n",
    "this many parameters."
   ]
  },
  {
   "cell_type": "code",
   "execution_count": null,
   "metadata": {
    "collapsed": true
   },
   "outputs": [],
   "source": []
  }
 ],
 "metadata": {
  "kernelspec": {
   "display_name": "Python 3",
   "language": "python",
   "name": "python3"
  },
  "language_info": {
   "codemirror_mode": {
    "name": "ipython",
    "version": 3
   },
   "file_extension": ".py",
   "mimetype": "text/x-python",
   "name": "python",
   "nbconvert_exporter": "python",
   "pygments_lexer": "ipython3",
   "version": "3.5.0"
  }
 },
 "nbformat": 4,
 "nbformat_minor": 0
}

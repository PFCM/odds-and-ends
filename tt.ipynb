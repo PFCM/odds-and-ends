{
 "cells": [
  {
   "cell_type": "code",
   "execution_count": 1,
   "metadata": {
    "collapsed": true
   },
   "outputs": [],
   "source": [
    "%matplotlib inline\n",
    "import matplotlib.pyplot as plt\n",
    "import numpy as np\n",
    "import tensorflow as tf\n",
    "\n",
    "from rnndatasets import sequentialmnist as sm"
   ]
  },
  {
   "cell_type": "code",
   "execution_count": null,
   "metadata": {
    "collapsed": true
   },
   "outputs": [],
   "source": [
    "def get_mnist_tensors(batch_size, num_epochs, \n",
    "                      padding=[[6, 6], [6, 6]]):\n",
    "    train_images, train_labels = sm.get_data('train', 60000)\n",
    "    test_images, test_labels = sm.get_data('test', 10000)\n",
    "    \n",
    "    train_image_c = tf.constant(train_images.reshape((-1, 28, 28)))\n",
    "    train_labels_c = tf.constant(train_labels)"
   ]
  },
  {
   "cell_type": "markdown",
   "metadata": {},
   "source": [
    "Let's make a TT layer as per\n",
    "[these gentlemen](https://arxiv.org/pdf/1509.06569v2.pdf)"
   ]
  },
  {
   "cell_type": "code",
   "execution_count": null,
   "metadata": {
    "collapsed": true
   },
   "outputs": [],
   "source": [
    "def get_tt_matrix(size, factors=[2, 2], scope=None):\n",
    "    \"\"\"Gets a tt matrix with a given size\"\"\"\n",
    "    "
   ]
  }
 ],
 "metadata": {
  "kernelspec": {
   "display_name": "Python 3",
   "language": "python",
   "name": "python3"
  },
  "language_info": {
   "codemirror_mode": {
    "name": "ipython",
    "version": 3
   },
   "file_extension": ".py",
   "mimetype": "text/x-python",
   "name": "python",
   "nbconvert_exporter": "python",
   "pygments_lexer": "ipython3",
   "version": "3.5.0"
  }
 },
 "nbformat": 4,
 "nbformat_minor": 0
}

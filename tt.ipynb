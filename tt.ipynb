{
 "cells": [
  {
   "cell_type": "code",
   "execution_count": 1,
   "metadata": {
    "collapsed": true
   },
   "outputs": [],
   "source": [
    "%matplotlib inline\n",
    "import matplotlib.pyplot as plt\n",
    "import numpy as np\n",
    "import tensorflow as tf\n",
    "\n",
    "from rnndatasets import sequentialmnist as sm"
   ]
  },
  {
   "cell_type": "code",
   "execution_count": 3,
   "metadata": {
    "collapsed": false
   },
   "outputs": [],
   "source": [
    "def get_batches(dataset, num_images, batch_size, num_epochs, padd):\n",
    "    images, labels = sm.get_data(dataset, num_images)\n",
    "    \n",
    "    image, label = tf.train.slice_input_producer(\n",
    "        [tf.constant(images.reshape((-1, 28, 28))),\n",
    "         tf.constant(labels)], shuffle=True, num_epochs=num_epochs)\n",
    "    \n",
    "    image = tf.pad(image, padd)\n",
    "    \n",
    "    return tf.train.batch([image, label], batch_size)\n",
    "\n",
    "def get_mnist_tensors(batch_size, num_epochs,\n",
    "                      final_shape,\n",
    "                      padding=[[6, 6], [6, 6]]):\n",
    "    train_image_batch, train_label_batch = get_batches(\n",
    "        'train', 60000, batch_size, num_epochs, padding)\n",
    "    test_image_batch, test_label_batch = get_batches(\n",
    "        'test', 10000, batch_size, -1, padding)\n",
    "    \n",
    "    new_shape = [-1] + final_shape\n",
    "    \n",
    "    train_image_batch = tf.reshape(train_image_batch, new_shape)\n",
    "    test_image_batch = tf.reshape(test_image_batch, new_shape)\n",
    "    \n",
    "    return ((train_image_batch, train_label_batch),\n",
    "            (test_image_batch, test_label_batch))"
   ]
  },
  {
   "cell_type": "markdown",
   "metadata": {},
   "source": [
    "Let's make a TT layer as per\n",
    "[these gentlemen](https://arxiv.org/pdf/1509.06569v2.pdf)"
   ]
  },
  {
   "cell_type": "code",
   "execution_count": null,
   "metadata": {
    "collapsed": true
   },
   "outputs": [],
   "source": [
    "def get_tt_matrix(size, factors=[2, 2], scope=None):\n",
    "    \"\"\"Gets a tt matrix with a given size\"\"\"\n",
    "    "
   ]
  }
 ],
 "metadata": {
  "kernelspec": {
   "display_name": "Python 3",
   "language": "python",
   "name": "python3"
  },
  "language_info": {
   "codemirror_mode": {
    "name": "ipython",
    "version": 3
   },
   "file_extension": ".py",
   "mimetype": "text/x-python",
   "name": "python",
   "nbconvert_exporter": "python",
   "pygments_lexer": "ipython3",
   "version": "3.5.0"
  }
 },
 "nbformat": 4,
 "nbformat_minor": 0
}

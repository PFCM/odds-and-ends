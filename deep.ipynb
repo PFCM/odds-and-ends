{
 "cells": [
  {
   "cell_type": "code",
   "execution_count": 1,
   "metadata": {
    "collapsed": true
   },
   "outputs": [],
   "source": [
    "%matplotlib inline\n",
    "\n",
    "import matplotlib.pyplot as plt\n",
    "import tensorflow as tf\n",
    "import numpy as np\n",
    "from rnndatasets import sequentialmnist as mnist"
   ]
  },
  {
   "cell_type": "code",
   "execution_count": 2,
   "metadata": {
    "collapsed": true
   },
   "outputs": [],
   "source": [
    "def orthogonal_regulariser(beta):\n",
    "    def o_r(mat):\n",
    "        if len(mat.get_shape()) != 2:\n",
    "            return None\n",
    "        cov = tf.matmul(mat, mat, transpose_b=True)  # careful which way\n",
    "        eye = tf.constant(np.eye(mat.get_shape()[0].value))\n",
    "        return tf.reduce_sum(tf.square(cov - eye)) * beta\n",
    "    return o_r"
   ]
  },
  {
   "cell_type": "code",
   "execution_count": 3,
   "metadata": {
    "collapsed": false
   },
   "outputs": [],
   "source": [
    "data, targets = mnist.get_data('train', 50000)"
   ]
  },
  {
   "cell_type": "code",
   "execution_count": 4,
   "metadata": {
    "collapsed": true
   },
   "outputs": [],
   "source": [
    "def affine(input_var, new_size, scope=None):\n",
    "    with tf.variable_scope(scope or 'affine'):\n",
    "        in_size = input_var.get_shape()[1].value\n",
    "        weights = tf.get_variable('weights', shape=[in_size, new_size])\n",
    "        bias = tf.get_variable('bias', shape=[new_size], initializer=tf.constant_initializer(0.0))\n",
    "        \n",
    "        return tf.nn.bias_add(tf.matmul(input_var, weights), bias)"
   ]
  },
  {
   "cell_type": "code",
   "execution_count": 5,
   "metadata": {
    "collapsed": true
   },
   "outputs": [],
   "source": [
    "def deep_ff_net(input_var, depth, width, num_outputs, nonlinearity=tf.nn.relu):\n",
    "    \n",
    "    layer_in = input_var\n",
    "    \n",
    "    for i, size in enumerate([width] * depth):\n",
    "        layer_in = affine(layer_in, size, 'layer_{}'.format(i))\n",
    "        layer_in = nonlinearity(layer_in)\n",
    "    \n",
    "    out = affine(layer_in, num_outputs, 'output_layer')\n",
    "    \n",
    "    return out"
   ]
  },
  {
   "cell_type": "code",
   "execution_count": 6,
   "metadata": {
    "collapsed": true
   },
   "outputs": [],
   "source": [
    "def batch_iter(data, labels, batch_size):\n",
    "    num_batches = data.shape[0] // batch_size\n",
    "    \n",
    "    for i in range(num_batches):\n",
    "        dbatch = data[i*batch_size:(i+1)*batch_size, ...]\n",
    "        lbatch = labels[i*batch_size:(i+1)*batch_size, ...]\n",
    "        yield dbatch, lbatch"
   ]
  },
  {
   "cell_type": "code",
   "execution_count": 7,
   "metadata": {
    "collapsed": false
   },
   "outputs": [],
   "source": [
    "tf.reset_default_graph()\n",
    "\n",
    "DEPTH = 1\n",
    "WIDTH = 50\n",
    "\n",
    "inputs = tf.placeholder(tf.float32, name='inputs', shape=[None, 784])\n",
    "labels = tf.placeholder(tf.int32, name='labels', shape=[None])\n",
    "\n",
    "with tf.variable_scope('deep_relu'):\n",
    "    relu_out = deep_ff_net(inputs, DEPTH, WIDTH, 10)\n",
    "    \n",
    "    relu_loss = tf.nn.sparse_softmax_cross_entropy_with_logits(\n",
    "        relu_out, labels)\n",
    "    relu_loss = tf.reduce_mean(relu_loss)\n",
    "    \n",
    "    relu_opt = tf.train.RMSPropOptimizer(0.01)\n",
    "    relu_train = relu_opt.minimize(relu_loss)"
   ]
  },
  {
   "cell_type": "code",
   "execution_count": 8,
   "metadata": {
    "collapsed": true
   },
   "outputs": [],
   "source": [
    "sess = tf.Session()\n",
    "sess.run(tf.initialize_all_variables())"
   ]
  },
  {
   "cell_type": "code",
   "execution_count": 9,
   "metadata": {
    "collapsed": false
   },
   "outputs": [],
   "source": [
    "data = data.reshape((-1, 784))"
   ]
  },
  {
   "cell_type": "code",
   "execution_count": 10,
   "metadata": {
    "collapsed": false
   },
   "outputs": [
    {
     "name": "stdout",
     "output_type": "stream",
     "text": [
      "10~Train xent: 0.24388228059123504"
     ]
    }
   ],
   "source": [
    "BATCH_SIZE = 50\n",
    "\n",
    "losses = []\n",
    "\n",
    "for epoch in range(10):\n",
    "    epoch_loss = 0\n",
    "    epoch_steps = 0\n",
    "    for batch_data, batch_labels in batch_iter(data, targets, BATCH_SIZE):\n",
    "        tloss, _ = sess.run([relu_loss, relu_train],\n",
    "                            {inputs: batch_data,\n",
    "                             labels: batch_labels})\n",
    "        epoch_loss += tloss\n",
    "        epoch_steps += 1\n",
    "    losses.append(epoch_loss/epoch_steps)\n",
    "    print('\\r{}~Train xent: {}'.format(epoch+1, epoch_loss / epoch_steps), end='')"
   ]
  },
  {
   "cell_type": "code",
   "execution_count": 11,
   "metadata": {
    "collapsed": false
   },
   "outputs": [
    {
     "data": {
      "text/plain": [
       "[<matplotlib.lines.Line2D at 0x7f72307b4dd8>]"
      ]
     },
     "execution_count": 11,
     "metadata": {},
     "output_type": "execute_result"
    },
    {
     "data": {
      "image/png": "[encoded data removed]",
      "text/plain": [
       "<matplotlib.figure.Figure at 0x7f724803ccc0>"
      ]
     },
     "metadata": {},
     "output_type": "display_data"
    }
   ],
   "source": [
    "plt.plot(losses)"
   ]
  },
  {
   "cell_type": "code",
   "execution_count": null,
   "metadata": {
    "collapsed": true
   },
   "outputs": [],
   "source": []
  }
 ],
 "metadata": {
  "kernelspec": {
   "display_name": "Python 3",
   "language": "python",
   "name": "python3"
  },
  "language_info": {
   "codemirror_mode": {
    "name": "ipython",
    "version": 3
   },
   "file_extension": ".py",
   "mimetype": "text/x-python",
   "name": "python",
   "nbconvert_exporter": "python",
   "pygments_lexer": "ipython3",
   "version": "3.5.1"
  }
 },
 "nbformat": 4,
 "nbformat_minor": 0
}

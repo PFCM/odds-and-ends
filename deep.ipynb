{
 "cells": [
  {
   "cell_type": "code",
   "execution_count": 1,
   "metadata": {
    "collapsed": true
   },
   "outputs": [],
   "source": [
    "%matplotlib inline\n",
    "\n",
    "import matplotlib.pyplot as plt\n",
    "import tensorflow as tf\n",
    "import numpy as np\n",
    "from rnndatasets import sequentialmnist as mnist"
   ]
  },
  {
   "cell_type": "code",
   "execution_count": 2,
   "metadata": {
    "collapsed": true
   },
   "outputs": [],
   "source": [
    "def orthogonal_regulariser(beta=1.0):\n",
    "    def o_r(mat):\n",
    "        if len(mat.get_shape()) != 2:\n",
    "            return None\n",
    "        cov = tf.matmul(mat, mat, transpose_b=True)  # careful which way\n",
    "        eye = tf.constant(np.eye(mat.get_shape()[0].value), dtype=tf.float32)\n",
    "        return tf.reduce_sum(tf.square(cov - eye)) * beta\n",
    "    return o_r"
   ]
  },
  {
   "cell_type": "code",
   "execution_count": 3,
   "metadata": {
    "collapsed": false
   },
   "outputs": [],
   "source": [
    "data, targets = mnist.get_data('train', 60000)\n",
    "vdata, vtargets = mnist.get_data('test', 10000)"
   ]
  },
  {
   "cell_type": "code",
   "execution_count": 4,
   "metadata": {
    "collapsed": true
   },
   "outputs": [],
   "source": [
    "def affine(input_var, new_size, scope=None):\n",
    "    with tf.variable_scope(scope or 'affine'):\n",
    "        in_size = input_var.get_shape()[1].value\n",
    "        weights = tf.get_variable('weights', shape=[in_size, new_size])\n",
    "        bias = tf.get_variable('bias', shape=[new_size], initializer=tf.constant_initializer(0.0))\n",
    "        \n",
    "        return tf.nn.bias_add(tf.matmul(input_var, weights), bias)"
   ]
  },
  {
   "cell_type": "code",
   "execution_count": 5,
   "metadata": {
    "collapsed": true
   },
   "outputs": [],
   "source": [
    "def deep_ff_net(input_var, depth, width, num_outputs, nonlinearity=tf.nn.relu):\n",
    "    \n",
    "    layer_in = input_var\n",
    "    \n",
    "    for i, size in enumerate([width] * depth):\n",
    "        layer_in = affine(layer_in, size, 'layer_{}'.format(i))\n",
    "        layer_in = nonlinearity(layer_in)\n",
    "    \n",
    "    out = affine(layer_in, num_outputs, 'output_layer')\n",
    "    \n",
    "    return out"
   ]
  },
  {
   "cell_type": "code",
   "execution_count": 6,
   "metadata": {
    "collapsed": true
   },
   "outputs": [],
   "source": [
    "def batch_iter(data, labels, batch_size):\n",
    "    num_batches = data.shape[0] // batch_size\n",
    "    \n",
    "    idcs = np.arange(len(data))\n",
    "    np.random.shuffle(idcs)\n",
    "    \n",
    "    for i in range(num_batches):\n",
    "        batch_idcs = idcs[i*batch_size:(i+1)*batch_size]\n",
    "        yield data[batch_idcs,...], labels[batch_idcs]"
   ]
  },
  {
   "cell_type": "code",
   "execution_count": 7,
   "metadata": {
    "collapsed": false
   },
   "outputs": [],
   "source": [
    "tf.reset_default_graph()\n",
    "\n",
    "DEPTH = 2\n",
    "WIDTH = 50\n",
    "\n",
    "inputs = tf.placeholder(tf.float32, name='inputs', shape=[None, 784])\n",
    "labels = tf.placeholder(tf.int32, name='labels', shape=[None])\n",
    "\n",
    "with tf.variable_scope('deep_relu'):\n",
    "    relu_out = deep_ff_net(inputs, DEPTH, WIDTH, 10)\n",
    "    \n",
    "    relu_loss = tf.nn.sparse_softmax_cross_entropy_with_logits(\n",
    "        relu_out, labels)\n",
    "    relu_loss = tf.reduce_mean(relu_loss)\n",
    "    \n",
    "    relu_opt = tf.train.RMSPropOptimizer(0.001)\n",
    "    relu_train = relu_opt.minimize(relu_loss)\n",
    "    \n",
    "    relu_acc = tf.contrib.metrics.accuracy(\n",
    "        tf.cast(tf.argmax(relu_out, 1), tf.int32), labels)\n",
    "\n",
    "with tf.variable_scope('deep_linear', regularizer=orthogonal_regulariser()):  # with squared error, for maximum linearness\n",
    "    lin_out = deep_ff_net(inputs, DEPTH, WIDTH, 10)\n",
    "    \n",
    "    lin_loss = tf.squared_difference(\n",
    "        lin_out, tf.one_hot(labels, 10))\n",
    "    lin_loss = tf.reduce_mean(lin_loss) + tf.add_n(tf.get_collection(tf.GraphKeys.REGULARIZATION_LOSSES))\n",
    "    \n",
    "    lin_opt = tf.train.RMSPropOptimizer(0.001)\n",
    "    lin_train = lin_opt.minimize(lin_loss)\n",
    "    \n",
    "    lin_acc = tf.contrib.metrics.accuracy(\n",
    "        tf.cast(tf.argmax(lin_out, 1), tf.int32), labels)\n",
    "\n",
    "all_trains = tf.group(relu_train, lin_train)"
   ]
  },
  {
   "cell_type": "code",
   "execution_count": 8,
   "metadata": {
    "collapsed": true
   },
   "outputs": [],
   "source": [
    "sess = tf.Session()\n",
    "sess.run(tf.initialize_all_variables())"
   ]
  },
  {
   "cell_type": "code",
   "execution_count": 9,
   "metadata": {
    "collapsed": false
   },
   "outputs": [],
   "source": [
    "data = data.reshape((-1, 784))\n",
    "vdata = vdata.reshape((-1, 784))"
   ]
  },
  {
   "cell_type": "code",
   "execution_count": 10,
   "metadata": {
    "collapsed": false
   },
   "outputs": [
    {
     "name": "stdout",
     "output_type": "stream",
     "text": [
      "33valid~relu acc: 0.990400008459886, linear acc: 0.9322333365678788"
     ]
    },
    {
     "ename": "KeyboardInterrupt",
     "evalue": "",
     "output_type": "error",
     "traceback": [
      "\u001b[0;31m---------------------------------------------------------------------------\u001b[0m",
      "\u001b[0;31mKeyboardInterrupt\u001b[0m                         Traceback (most recent call last)",
      "\u001b[0;32m<ipython-input-10-531f61123618>\u001b[0m in \u001b[0;36m<module>\u001b[0;34m()\u001b[0m\n\u001b[1;32m     13\u001b[0m             \u001b[0;34m[\u001b[0m\u001b[0mrelu_acc\u001b[0m\u001b[0;34m,\u001b[0m \u001b[0mlin_acc\u001b[0m\u001b[0;34m,\u001b[0m \u001b[0mall_trains\u001b[0m\u001b[0;34m]\u001b[0m\u001b[0;34m,\u001b[0m\u001b[0;34m\u001b[0m\u001b[0m\n\u001b[1;32m     14\u001b[0m             {inputs: batch_data,\n\u001b[0;32m---> 15\u001b[0;31m              labels: batch_labels})\n\u001b[0m\u001b[1;32m     16\u001b[0m         \u001b[0mepoch_losses\u001b[0m\u001b[0;34m[\u001b[0m\u001b[0;34m'linear'\u001b[0m\u001b[0;34m]\u001b[0m \u001b[0;34m+=\u001b[0m \u001b[0mlloss\u001b[0m\u001b[0;34m\u001b[0m\u001b[0m\n\u001b[1;32m     17\u001b[0m         \u001b[0mepoch_losses\u001b[0m\u001b[0;34m[\u001b[0m\u001b[0;34m'relu'\u001b[0m\u001b[0;34m]\u001b[0m \u001b[0;34m+=\u001b[0m \u001b[0mrloss\u001b[0m\u001b[0;34m\u001b[0m\u001b[0m\n",
      "\u001b[0;32m/Users/pfcmathews/.pyenv/versions/3.5.0/lib/python3.5/site-packages/tensorflow/python/client/session.py\u001b[0m in \u001b[0;36mrun\u001b[0;34m(self, fetches, feed_dict, options, run_metadata)\u001b[0m\n\u001b[1;32m    708\u001b[0m     \u001b[0;32mtry\u001b[0m\u001b[0;34m:\u001b[0m\u001b[0;34m\u001b[0m\u001b[0m\n\u001b[1;32m    709\u001b[0m       result = self._run(None, fetches, feed_dict, options_ptr,\n\u001b[0;32m--> 710\u001b[0;31m                          run_metadata_ptr)\n\u001b[0m\u001b[1;32m    711\u001b[0m       \u001b[0;32mif\u001b[0m \u001b[0mrun_metadata\u001b[0m\u001b[0;34m:\u001b[0m\u001b[0;34m\u001b[0m\u001b[0m\n\u001b[1;32m    712\u001b[0m         \u001b[0mproto_data\u001b[0m \u001b[0;34m=\u001b[0m \u001b[0mtf_session\u001b[0m\u001b[0;34m.\u001b[0m\u001b[0mTF_GetBuffer\u001b[0m\u001b[0;34m(\u001b[0m\u001b[0mrun_metadata_ptr\u001b[0m\u001b[0;34m)\u001b[0m\u001b[0;34m\u001b[0m\u001b[0m\n",
      "\u001b[0;32m/Users/pfcmathews/.pyenv/versions/3.5.0/lib/python3.5/site-packages/tensorflow/python/client/session.py\u001b[0m in \u001b[0;36m_run\u001b[0;34m(self, handle, fetches, feed_dict, options, run_metadata)\u001b[0m\n\u001b[1;32m    906\u001b[0m     \u001b[0;32mif\u001b[0m \u001b[0mfinal_fetches\u001b[0m \u001b[0;32mor\u001b[0m \u001b[0mfinal_targets\u001b[0m\u001b[0;34m:\u001b[0m\u001b[0;34m\u001b[0m\u001b[0m\n\u001b[1;32m    907\u001b[0m       results = self._do_run(handle, final_targets, final_fetches,\n\u001b[0;32m--> 908\u001b[0;31m                              feed_dict_string, options, run_metadata)\n\u001b[0m\u001b[1;32m    909\u001b[0m     \u001b[0;32melse\u001b[0m\u001b[0;34m:\u001b[0m\u001b[0;34m\u001b[0m\u001b[0m\n\u001b[1;32m    910\u001b[0m       \u001b[0mresults\u001b[0m \u001b[0;34m=\u001b[0m \u001b[0;34m[\u001b[0m\u001b[0;34m]\u001b[0m\u001b[0;34m\u001b[0m\u001b[0m\n",
      "\u001b[0;32m/Users/pfcmathews/.pyenv/versions/3.5.0/lib/python3.5/site-packages/tensorflow/python/client/session.py\u001b[0m in \u001b[0;36m_do_run\u001b[0;34m(self, handle, target_list, fetch_list, feed_dict, options, run_metadata)\u001b[0m\n\u001b[1;32m    956\u001b[0m     \u001b[0;32mif\u001b[0m \u001b[0mhandle\u001b[0m \u001b[0;32mis\u001b[0m \u001b[0;32mNone\u001b[0m\u001b[0;34m:\u001b[0m\u001b[0;34m\u001b[0m\u001b[0m\n\u001b[1;32m    957\u001b[0m       return self._do_call(_run_fn, self._session, feed_dict, fetch_list,\n\u001b[0;32m--> 958\u001b[0;31m                            target_list, options, run_metadata)\n\u001b[0m\u001b[1;32m    959\u001b[0m     \u001b[0;32melse\u001b[0m\u001b[0;34m:\u001b[0m\u001b[0;34m\u001b[0m\u001b[0m\n\u001b[1;32m    960\u001b[0m       return self._do_call(_prun_fn, self._session, handle, feed_dict,\n",
      "\u001b[0;32m/Users/pfcmathews/.pyenv/versions/3.5.0/lib/python3.5/site-packages/tensorflow/python/client/session.py\u001b[0m in \u001b[0;36m_do_call\u001b[0;34m(self, fn, *args)\u001b[0m\n\u001b[1;32m    963\u001b[0m   \u001b[0;32mdef\u001b[0m \u001b[0m_do_call\u001b[0m\u001b[0;34m(\u001b[0m\u001b[0mself\u001b[0m\u001b[0;34m,\u001b[0m \u001b[0mfn\u001b[0m\u001b[0;34m,\u001b[0m \u001b[0;34m*\u001b[0m\u001b[0margs\u001b[0m\u001b[0;34m)\u001b[0m\u001b[0;34m:\u001b[0m\u001b[0;34m\u001b[0m\u001b[0m\n\u001b[1;32m    964\u001b[0m     \u001b[0;32mtry\u001b[0m\u001b[0;34m:\u001b[0m\u001b[0;34m\u001b[0m\u001b[0m\n\u001b[0;32m--> 965\u001b[0;31m       \u001b[0;32mreturn\u001b[0m \u001b[0mfn\u001b[0m\u001b[0;34m(\u001b[0m\u001b[0;34m*\u001b[0m\u001b[0margs\u001b[0m\u001b[0;34m)\u001b[0m\u001b[0;34m\u001b[0m\u001b[0m\n\u001b[0m\u001b[1;32m    966\u001b[0m     \u001b[0;32mexcept\u001b[0m \u001b[0merrors\u001b[0m\u001b[0;34m.\u001b[0m\u001b[0mOpError\u001b[0m \u001b[0;32mas\u001b[0m \u001b[0me\u001b[0m\u001b[0;34m:\u001b[0m\u001b[0;34m\u001b[0m\u001b[0m\n\u001b[1;32m    967\u001b[0m       \u001b[0mmessage\u001b[0m \u001b[0;34m=\u001b[0m \u001b[0mcompat\u001b[0m\u001b[0;34m.\u001b[0m\u001b[0mas_text\u001b[0m\u001b[0;34m(\u001b[0m\u001b[0me\u001b[0m\u001b[0;34m.\u001b[0m\u001b[0mmessage\u001b[0m\u001b[0;34m)\u001b[0m\u001b[0;34m\u001b[0m\u001b[0m\n",
      "\u001b[0;32m/Users/pfcmathews/.pyenv/versions/3.5.0/lib/python3.5/site-packages/tensorflow/python/client/session.py\u001b[0m in \u001b[0;36m_run_fn\u001b[0;34m(session, feed_dict, fetch_list, target_list, options, run_metadata)\u001b[0m\n\u001b[1;32m    945\u001b[0m         return tf_session.TF_Run(session, options,\n\u001b[1;32m    946\u001b[0m                                  \u001b[0mfeed_dict\u001b[0m\u001b[0;34m,\u001b[0m \u001b[0mfetch_list\u001b[0m\u001b[0;34m,\u001b[0m \u001b[0mtarget_list\u001b[0m\u001b[0;34m,\u001b[0m\u001b[0;34m\u001b[0m\u001b[0m\n\u001b[0;32m--> 947\u001b[0;31m                                  status, run_metadata)\n\u001b[0m\u001b[1;32m    948\u001b[0m \u001b[0;34m\u001b[0m\u001b[0m\n\u001b[1;32m    949\u001b[0m     \u001b[0;32mdef\u001b[0m \u001b[0m_prun_fn\u001b[0m\u001b[0;34m(\u001b[0m\u001b[0msession\u001b[0m\u001b[0;34m,\u001b[0m \u001b[0mhandle\u001b[0m\u001b[0;34m,\u001b[0m \u001b[0mfeed_dict\u001b[0m\u001b[0;34m,\u001b[0m \u001b[0mfetch_list\u001b[0m\u001b[0;34m)\u001b[0m\u001b[0;34m:\u001b[0m\u001b[0;34m\u001b[0m\u001b[0m\n",
      "\u001b[0;31mKeyboardInterrupt\u001b[0m: "
     ]
    }
   ],
   "source": [
    "BATCH_SIZE = 100\n",
    "\n",
    "losses = {'relu': [],\n",
    "          'linear': []}\n",
    "vlosses = {'relu': [],\n",
    "           'linear': []}\n",
    "\n",
    "for epoch in range(50):\n",
    "    epoch_losses = {key: 0 for key in losses}\n",
    "    epoch_steps = 0\n",
    "    for batch_data, batch_labels in batch_iter(data, targets, BATCH_SIZE):\n",
    "        rloss, lloss, _ = sess.run(\n",
    "            [relu_acc, lin_acc, all_trains],\n",
    "            {inputs: batch_data,\n",
    "             labels: batch_labels})\n",
    "        epoch_losses['linear'] += lloss\n",
    "        epoch_losses['relu'] += rloss\n",
    "        epoch_steps += 1\n",
    "    print('\\r{}~relu acc: {}, linear acc: {}'.format(\n",
    "            epoch+1, epoch_losses['relu'] / epoch_steps,\n",
    "            epoch_losses['linear'] / epoch_steps), end='',\n",
    "           flush=True)\n",
    "    valid_accs = {key: 0 for key in losses}\n",
    "    vepoch_steps = 0\n",
    "    for batch_data, batch_labels in batch_iter(vdata, vtargets, BATCH_SIZE):\n",
    "        rvalid, lvalid = sess.run(\n",
    "            [relu_acc, lin_acc],\n",
    "            {inputs: batch_data,\n",
    "             labels: batch_labels})\n",
    "        valid_accs['linear'] += lvalid\n",
    "        valid_accs['relu'] += rvalid\n",
    "        vepoch_steps += 1\n",
    "    print('\\r{}valid~relu acc: {}, linear acc: {}'.format(\n",
    "            epoch+1, epoch_losses['relu'] / epoch_steps,\n",
    "            epoch_losses['linear'] / epoch_steps), end='')\n",
    "    \n",
    "    for key in losses:\n",
    "        losses[key].append(epoch_losses[key]/epoch_steps)\n",
    "        vlosses[key].append(valid_accs[key]/vepoch_steps)\n",
    "    "
   ]
  },
  {
   "cell_type": "code",
   "execution_count": 11,
   "metadata": {
    "collapsed": false
   },
   "outputs": [
    {
     "data": {
      "text/plain": [
       "<matplotlib.legend.Legend at 0x115d10c50>"
      ]
     },
     "execution_count": 11,
     "metadata": {},
     "output_type": "execute_result"
    },
    {
     "data": {
      "image/png": "[encoded data removed]",
      "text/plain": [
       "<matplotlib.figure.Figure at 0x115d10c88>"
      ]
     },
     "metadata": {},
     "output_type": "display_data"
    }
   ],
   "source": [
    "for key in losses:\n",
    "    plt.plot(losses[key], label=key)\n",
    "plt.legend()"
   ]
  },
  {
   "cell_type": "code",
   "execution_count": 12,
   "metadata": {
    "collapsed": false
   },
   "outputs": [
    {
     "data": {
      "text/plain": [
       "<matplotlib.legend.Legend at 0x115e1b2e8>"
      ]
     },
     "execution_count": 12,
     "metadata": {},
     "output_type": "execute_result"
    },
    {
     "data": {
      "image/png": "[encoded data removed]",
      "text/plain": [
       "<matplotlib.figure.Figure at 0x115e1b400>"
      ]
     },
     "metadata": {},
     "output_type": "display_data"
    }
   ],
   "source": [
    "for key in vlosses:\n",
    "    plt.plot(vlosses[key], label=key)\n",
    "plt.legend()"
   ]
  },
  {
   "cell_type": "code",
   "execution_count": null,
   "metadata": {
    "collapsed": true
   },
   "outputs": [],
   "source": []
  }
 ],
 "metadata": {
  "kernelspec": {
   "display_name": "Python 3",
   "language": "python",
   "name": "python3"
  },
  "language_info": {
   "codemirror_mode": {
    "name": "ipython",
    "version": 3
   },
   "file_extension": ".py",
   "mimetype": "text/x-python",
   "name": "python",
   "nbconvert_exporter": "python",
   "pygments_lexer": "ipython3",
   "version": "3.5.0"
  }
 },
 "nbformat": 4,
 "nbformat_minor": 0
}

{
 "cells": [
  {
   "cell_type": "code",
   "execution_count": 1,
   "metadata": {
    "collapsed": true
   },
   "outputs": [],
   "source": [
    "%matplotlib inline\n",
    "import numpy as np\n",
    "import matplotlib.pyplot as plt"
   ]
  },
  {
   "cell_type": "markdown",
   "metadata": {},
   "source": [
    "The plan is to re-create figure 3 of [Saxe, McClelland and Ganguly](https://arxiv.org/pdf/1312.6120v3.pdf), but have\n",
    "a go with a ReLU rather than a tanh as that is more interesting practically.\n",
    "\n",
    "The first thing to do is to try to plot the analytical curve:\n",
    "$$\n",
    "    u_f(t) = \\frac{se^{\\frac{2st}{\\tau}}}{e^{\\frac{2st}{\\tau}} - 1 + \\frac{s}{u_0}}\n",
    "$$ for small $u_0$. From the paper, we'll try $t$ from $0$ to around $1200$. To get $s$ we need some data, it is a\n",
    "singular value of the data correlation matrix. For now we'll just plug in a couple of numbers and see if it looks about right."
   ]
  },
  {
   "cell_type": "code",
   "execution_count": 2,
   "metadata": {
    "collapsed": true
   },
   "outputs": [],
   "source": [
    "def curve(t, s, tau, u_nought):\n",
    "    \"\"\"only one s at a time\"\"\"\n",
    "    exps = np.exp((2*s*t) / tau)\n",
    "    return (s * exps) / (exps - 1 + s/u_nought)"
   ]
  },
  {
   "cell_type": "code",
   "execution_count": 16,
   "metadata": {
    "collapsed": false
   },
   "outputs": [
    {
     "data": {
      "text/plain": [
       "[<matplotlib.lines.Line2D at 0x111cb9438>]"
      ]
     },
     "execution_count": 16,
     "metadata": {},
     "output_type": "execute_result"
    },
    {
     "data": {
      "image/png": "[encoded data removed]",
      "text/plain": [
       "<matplotlib.figure.Figure at 0x111af8b00>"
      ]
     },
     "metadata": {},
     "output_type": "display_data"
    }
   ],
   "source": [
    "time = np.arange(1200.0)\n",
    "s = 0.001\n",
    "tau = 0.1\n",
    "u_nought = 0.00001\n",
    "\n",
    "y = curve(time, s, tau, u_nought)\n",
    "\n",
    "plt.plot(time, y)"
   ]
  },
  {
   "cell_type": "markdown",
   "metadata": {},
   "source": [
    "Could be worse, let's go ahead and make some real data. The data used for this figure was apparently generated according to a procedure described in a [different paper](http://www-psych.stanford.edu/~jlm/papers/SaxeMcCGanguli13CogSciProc.pdf) by the same authors.\n",
    "\n",
    "The data is described as follows:\n",
    ">The training set consists of 32 orthogonal input patterns, each\n",
    ">associated with a 1000-dimensional feature vector generated by a hierarchical diffusion process described\n",
    ">in [16] with a five level binary tree and flip probability of 0.1 \n",
    "\n",
    "The hierarchical diffusion process is indeed described in the other paper, and it is slightly odd. At first, however,\n",
    "we note that all we know about the training data is that the outputs have $1000$ dimensions and there are 32 patterns.\n",
    "That there are 32 patterns necessarily corresponds to the binary tree process used to generate the data, but we have no idea at all how big the input patterns are.\n",
    "\n",
    "The procedure is as follows:\n",
    "- generate a binary tree with one leaf node per output pattern\n",
    "- for each feature do:\n",
    "    - set the root node to 1 or -1 with probability 0.5\n",
    "    - while not at the lowest level\n",
    "        - propagate the value of each node in the higher level to its children\n",
    "        - with probability $\\epsilon$ flip the value\n",
    "        \n",
    "        \n",
    "        \n",
    "Making this work out should not be crazy, but might be a little bit unpleasant. The procedure we are going to use is the following:\n",
    "- allocate the appropriate amount of space\n",
    "- get down to the first level, make sure the values are in the middle.\n",
    "- alternate 1d convolutions and random flipping until we are done."
   ]
  },
  {
   "cell_type": "code",
   "execution_count": null,
   "metadata": {
    "collapsed": true
   },
   "outputs": [],
   "source": [
    "def flip(data, epsilon):\n",
    "    \"\"\"randomly flip the signs with probability epsilon\"\"\"\n",
    "    "
   ]
  }
 ],
 "metadata": {
  "kernelspec": {
   "display_name": "Python 3",
   "language": "python",
   "name": "python3"
  },
  "language_info": {
   "codemirror_mode": {
    "name": "ipython",
    "version": 3
   },
   "file_extension": ".py",
   "mimetype": "text/x-python",
   "name": "python",
   "nbconvert_exporter": "python",
   "pygments_lexer": "ipython3",
   "version": "3.5.1"
  }
 },
 "nbformat": 4,
 "nbformat_minor": 0
}
